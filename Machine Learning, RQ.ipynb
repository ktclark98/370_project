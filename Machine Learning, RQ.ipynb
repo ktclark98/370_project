{
 "cells": [
  {
   "cell_type": "markdown",
   "metadata": {},
   "source": [
    "## Load Necessary Library"
   ]
  },
  {
   "cell_type": "code",
   "execution_count": 1,
   "metadata": {},
   "outputs": [],
   "source": [
    "from sklearn.metrics import accuracy_score,mean_absolute_error\n",
    "from sklearn.tree import DecisionTreeRegressor\n",
    "from sklearn.neighbors import KNeighborsClassifier,KNeighborsRegressor\n",
    "from sklearn.pipeline import make_pipeline,make_union\n",
    "from sklearn.preprocessing import MinMaxScaler, Imputer,PolynomialFeatures, StandardScaler\n",
    "from sklearn.model_selection import GridSearchCV,KFold,train_test_split\n",
    "import warnings\n",
    "from sklearn.feature_selection import SelectPercentile,SelectKBest, VarianceThreshold\n",
    "warnings.filterwarnings('ignore')\n",
    "import numpy as np\n",
    "from sklearn.naive_bayes import MultinomialNB\n",
    "from sklearn.metrics import classification_report\n",
    "from sklearn.neural_network import MLPClassifier"
   ]
  },
  {
   "cell_type": "code",
   "execution_count": null,
   "metadata": {},
   "outputs": [],
   "source": []
  },
  {
   "cell_type": "code",
   "execution_count": 2,
   "metadata": {},
   "outputs": [],
   "source": [
    "import matplotlib.pyplot as plt\n",
    "import pandas as pd"
   ]
  },
  {
   "cell_type": "code",
   "execution_count": 3,
   "metadata": {},
   "outputs": [],
   "source": [
    "#Need to run all Data Prep Notebook cells\n",
    "%store -r data"
   ]
  },
  {
   "cell_type": "code",
   "execution_count": 4,
   "metadata": {},
   "outputs": [
    {
     "data": {
      "text/html": [
       "<div>\n",
       "<style scoped>\n",
       "    .dataframe tbody tr th:only-of-type {\n",
       "        vertical-align: middle;\n",
       "    }\n",
       "\n",
       "    .dataframe tbody tr th {\n",
       "        vertical-align: top;\n",
       "    }\n",
       "\n",
       "    .dataframe thead th {\n",
       "        text-align: right;\n",
       "    }\n",
       "</style>\n",
       "<table border=\"1\" class=\"dataframe\">\n",
       "  <thead>\n",
       "    <tr style=\"text-align: right;\">\n",
       "      <th></th>\n",
       "      <th>name</th>\n",
       "      <th>category</th>\n",
       "      <th>main_category</th>\n",
       "      <th>currency</th>\n",
       "      <th>deadline</th>\n",
       "      <th>goal</th>\n",
       "      <th>launched</th>\n",
       "      <th>pledged</th>\n",
       "      <th>state</th>\n",
       "      <th>backers</th>\n",
       "      <th>country</th>\n",
       "      <th>usd pledged</th>\n",
       "      <th>usd_pledged_real</th>\n",
       "      <th>usd_goal_real</th>\n",
       "    </tr>\n",
       "    <tr>\n",
       "      <th>ID</th>\n",
       "      <th></th>\n",
       "      <th></th>\n",
       "      <th></th>\n",
       "      <th></th>\n",
       "      <th></th>\n",
       "      <th></th>\n",
       "      <th></th>\n",
       "      <th></th>\n",
       "      <th></th>\n",
       "      <th></th>\n",
       "      <th></th>\n",
       "      <th></th>\n",
       "      <th></th>\n",
       "      <th></th>\n",
       "    </tr>\n",
       "  </thead>\n",
       "  <tbody>\n",
       "    <tr>\n",
       "      <th>1000002330</th>\n",
       "      <td>The Songs of Adelaide &amp; Abullah</td>\n",
       "      <td>160</td>\n",
       "      <td>43</td>\n",
       "      <td>23</td>\n",
       "      <td>2015-10-09</td>\n",
       "      <td>1000.0</td>\n",
       "      <td>2015-08-11 12:12:28</td>\n",
       "      <td>0.0</td>\n",
       "      <td>False</td>\n",
       "      <td>0</td>\n",
       "      <td>22</td>\n",
       "      <td>0.0</td>\n",
       "      <td>0.0</td>\n",
       "      <td>1533.95</td>\n",
       "    </tr>\n",
       "    <tr>\n",
       "      <th>1000003930</th>\n",
       "      <td>Greeting From Earth: ZGAC Arts Capsule For ET</td>\n",
       "      <td>145</td>\n",
       "      <td>20</td>\n",
       "      <td>51</td>\n",
       "      <td>2017-11-01</td>\n",
       "      <td>30000.0</td>\n",
       "      <td>2017-09-02 04:43:57</td>\n",
       "      <td>2421.0</td>\n",
       "      <td>False</td>\n",
       "      <td>15</td>\n",
       "      <td>50</td>\n",
       "      <td>100.0</td>\n",
       "      <td>2421.0</td>\n",
       "      <td>30000.00</td>\n",
       "    </tr>\n",
       "    <tr>\n",
       "      <th>1000004038</th>\n",
       "      <td>Where is Hank?</td>\n",
       "      <td>145</td>\n",
       "      <td>20</td>\n",
       "      <td>51</td>\n",
       "      <td>2013-02-26</td>\n",
       "      <td>45000.0</td>\n",
       "      <td>2013-01-12 00:20:50</td>\n",
       "      <td>220.0</td>\n",
       "      <td>False</td>\n",
       "      <td>3</td>\n",
       "      <td>50</td>\n",
       "      <td>220.0</td>\n",
       "      <td>220.0</td>\n",
       "      <td>45000.00</td>\n",
       "    </tr>\n",
       "    <tr>\n",
       "      <th>1000007540</th>\n",
       "      <td>ToshiCapital Rekordz Needs Help to Complete Album</td>\n",
       "      <td>142</td>\n",
       "      <td>35</td>\n",
       "      <td>51</td>\n",
       "      <td>2012-04-16</td>\n",
       "      <td>5000.0</td>\n",
       "      <td>2012-03-17 03:24:11</td>\n",
       "      <td>1.0</td>\n",
       "      <td>False</td>\n",
       "      <td>1</td>\n",
       "      <td>50</td>\n",
       "      <td>1.0</td>\n",
       "      <td>1.0</td>\n",
       "      <td>5000.00</td>\n",
       "    </tr>\n",
       "    <tr>\n",
       "      <th>1000011046</th>\n",
       "      <td>Community Film Project: The Art of Neighborhoo...</td>\n",
       "      <td>107</td>\n",
       "      <td>20</td>\n",
       "      <td>51</td>\n",
       "      <td>2015-08-29</td>\n",
       "      <td>19500.0</td>\n",
       "      <td>2015-07-04 08:35:03</td>\n",
       "      <td>1283.0</td>\n",
       "      <td>False</td>\n",
       "      <td>14</td>\n",
       "      <td>50</td>\n",
       "      <td>1283.0</td>\n",
       "      <td>1283.0</td>\n",
       "      <td>19500.00</td>\n",
       "    </tr>\n",
       "  </tbody>\n",
       "</table>\n",
       "</div>"
      ],
      "text/plain": [
       "                                                         name  category  \\\n",
       "ID                                                                        \n",
       "1000002330                    The Songs of Adelaide & Abullah       160   \n",
       "1000003930      Greeting From Earth: ZGAC Arts Capsule For ET       145   \n",
       "1000004038                                     Where is Hank?       145   \n",
       "1000007540  ToshiCapital Rekordz Needs Help to Complete Album       142   \n",
       "1000011046  Community Film Project: The Art of Neighborhoo...       107   \n",
       "\n",
       "            main_category  currency   deadline     goal            launched  \\\n",
       "ID                                                                            \n",
       "1000002330             43        23 2015-10-09   1000.0 2015-08-11 12:12:28   \n",
       "1000003930             20        51 2017-11-01  30000.0 2017-09-02 04:43:57   \n",
       "1000004038             20        51 2013-02-26  45000.0 2013-01-12 00:20:50   \n",
       "1000007540             35        51 2012-04-16   5000.0 2012-03-17 03:24:11   \n",
       "1000011046             20        51 2015-08-29  19500.0 2015-07-04 08:35:03   \n",
       "\n",
       "            pledged  state  backers  country  usd pledged  usd_pledged_real  \\\n",
       "ID                                                                            \n",
       "1000002330      0.0  False        0       22          0.0               0.0   \n",
       "1000003930   2421.0  False       15       50        100.0            2421.0   \n",
       "1000004038    220.0  False        3       50        220.0             220.0   \n",
       "1000007540      1.0  False        1       50          1.0               1.0   \n",
       "1000011046   1283.0  False       14       50       1283.0            1283.0   \n",
       "\n",
       "            usd_goal_real  \n",
       "ID                         \n",
       "1000002330        1533.95  \n",
       "1000003930       30000.00  \n",
       "1000004038       45000.00  \n",
       "1000007540        5000.00  \n",
       "1000011046       19500.00  "
      ]
     },
     "execution_count": 4,
     "metadata": {},
     "output_type": "execute_result"
    }
   ],
   "source": [
    "data.head()"
   ]
  },
  {
   "cell_type": "markdown",
   "metadata": {},
   "source": [
    "## Make a new feature"
   ]
  },
  {
   "cell_type": "code",
   "execution_count": 5,
   "metadata": {},
   "outputs": [],
   "source": [
    "data[\"duration\"] = ((data[\"deadline\"]  - data['launched']) / np.timedelta64(1, 'D')).astype(int)"
   ]
  },
  {
   "cell_type": "code",
   "execution_count": 30,
   "metadata": {},
   "outputs": [],
   "source": [
    "data[\"month_launched\"] = data[\"launched\"].dt.month\n",
    "data[\"month_deadline\"] = data[\"deadline\"].dt.month\n",
    "data[\"launch_day_of_week\"] = data[\"launched\"].dt.dayofweek\n",
    "\n",
    "#projects = data['launched'].groupby([data['launched'].dt.year.rename('year'), data['launched'].dt.month.rename('month')]).agg({'count'})\n",
    "\n"
   ]
  },
  {
   "cell_type": "code",
   "execution_count": 7,
   "metadata": {},
   "outputs": [],
   "source": [
    "def state_to_num(x):\n",
    "    if x < 0.5: return 0\n",
    "    elif 0.5<= x < 1 : return 1\n",
    "    elif 1<= x <= 1.5: return 2\n",
    "    else: return 3\n",
    "data[\"state_num\"] = [state_to_num(x)for x in  (data.usd_pledged_real/data.usd_goal_real)]"
   ]
  },
  {
   "cell_type": "code",
   "execution_count": 8,
   "metadata": {},
   "outputs": [
    {
     "data": {
      "text/plain": [
       "Index(['name', 'category', 'main_category', 'currency', 'deadline', 'goal',\n",
       "       'launched', 'pledged', 'state', 'backers', 'country', 'usd pledged',\n",
       "       'usd_pledged_real', 'usd_goal_real', 'duration', 'month_launched',\n",
       "       'month_deadline', 'launch_day_of_week', 'state_num'],\n",
       "      dtype='object')"
      ]
     },
     "execution_count": 8,
     "metadata": {},
     "output_type": "execute_result"
    }
   ],
   "source": [
    "data.columns"
   ]
  },
  {
   "cell_type": "code",
   "execution_count": 9,
   "metadata": {},
   "outputs": [],
   "source": [
    "feature = data[['category', 'main_category', 'currency', 'goal','duration', 'country', 'month_launched', 'month_deadline', 'launch_day_of_week']]\n",
    "outcome = data[['state_num']]\n",
    "feature_name = data[[\"name\"]]"
   ]
  },
  {
   "cell_type": "code",
   "execution_count": 10,
   "metadata": {},
   "outputs": [
    {
     "data": {
      "text/html": [
       "<div>\n",
       "<style scoped>\n",
       "    .dataframe tbody tr th:only-of-type {\n",
       "        vertical-align: middle;\n",
       "    }\n",
       "\n",
       "    .dataframe tbody tr th {\n",
       "        vertical-align: top;\n",
       "    }\n",
       "\n",
       "    .dataframe thead th {\n",
       "        text-align: right;\n",
       "    }\n",
       "</style>\n",
       "<table border=\"1\" class=\"dataframe\">\n",
       "  <thead>\n",
       "    <tr style=\"text-align: right;\">\n",
       "      <th></th>\n",
       "      <th>category</th>\n",
       "      <th>main_category</th>\n",
       "      <th>currency</th>\n",
       "      <th>goal</th>\n",
       "      <th>duration</th>\n",
       "      <th>country</th>\n",
       "      <th>month_launched</th>\n",
       "      <th>month_deadline</th>\n",
       "      <th>launch_day_of_week</th>\n",
       "    </tr>\n",
       "    <tr>\n",
       "      <th>ID</th>\n",
       "      <th></th>\n",
       "      <th></th>\n",
       "      <th></th>\n",
       "      <th></th>\n",
       "      <th></th>\n",
       "      <th></th>\n",
       "      <th></th>\n",
       "      <th></th>\n",
       "      <th></th>\n",
       "    </tr>\n",
       "  </thead>\n",
       "  <tbody>\n",
       "    <tr>\n",
       "      <th>1000002330</th>\n",
       "      <td>160</td>\n",
       "      <td>43</td>\n",
       "      <td>23</td>\n",
       "      <td>1000.0</td>\n",
       "      <td>58</td>\n",
       "      <td>22</td>\n",
       "      <td>8</td>\n",
       "      <td>10</td>\n",
       "      <td>1</td>\n",
       "    </tr>\n",
       "    <tr>\n",
       "      <th>1000003930</th>\n",
       "      <td>145</td>\n",
       "      <td>20</td>\n",
       "      <td>51</td>\n",
       "      <td>30000.0</td>\n",
       "      <td>59</td>\n",
       "      <td>50</td>\n",
       "      <td>9</td>\n",
       "      <td>11</td>\n",
       "      <td>5</td>\n",
       "    </tr>\n",
       "    <tr>\n",
       "      <th>1000004038</th>\n",
       "      <td>145</td>\n",
       "      <td>20</td>\n",
       "      <td>51</td>\n",
       "      <td>45000.0</td>\n",
       "      <td>44</td>\n",
       "      <td>50</td>\n",
       "      <td>1</td>\n",
       "      <td>2</td>\n",
       "      <td>5</td>\n",
       "    </tr>\n",
       "    <tr>\n",
       "      <th>1000007540</th>\n",
       "      <td>142</td>\n",
       "      <td>35</td>\n",
       "      <td>51</td>\n",
       "      <td>5000.0</td>\n",
       "      <td>29</td>\n",
       "      <td>50</td>\n",
       "      <td>3</td>\n",
       "      <td>4</td>\n",
       "      <td>5</td>\n",
       "    </tr>\n",
       "    <tr>\n",
       "      <th>1000011046</th>\n",
       "      <td>107</td>\n",
       "      <td>20</td>\n",
       "      <td>51</td>\n",
       "      <td>19500.0</td>\n",
       "      <td>55</td>\n",
       "      <td>50</td>\n",
       "      <td>7</td>\n",
       "      <td>8</td>\n",
       "      <td>5</td>\n",
       "    </tr>\n",
       "  </tbody>\n",
       "</table>\n",
       "</div>"
      ],
      "text/plain": [
       "            category  main_category  currency     goal  duration  country  \\\n",
       "ID                                                                          \n",
       "1000002330       160             43        23   1000.0        58       22   \n",
       "1000003930       145             20        51  30000.0        59       50   \n",
       "1000004038       145             20        51  45000.0        44       50   \n",
       "1000007540       142             35        51   5000.0        29       50   \n",
       "1000011046       107             20        51  19500.0        55       50   \n",
       "\n",
       "            month_launched  month_deadline  launch_day_of_week  \n",
       "ID                                                              \n",
       "1000002330               8              10                   1  \n",
       "1000003930               9              11                   5  \n",
       "1000004038               1               2                   5  \n",
       "1000007540               3               4                   5  \n",
       "1000011046               7               8                   5  "
      ]
     },
     "execution_count": 10,
     "metadata": {},
     "output_type": "execute_result"
    }
   ],
   "source": [
    "feature.head()"
   ]
  },
  {
   "cell_type": "markdown",
   "metadata": {},
   "source": [
    "## Split test and train data set"
   ]
  },
  {
   "cell_type": "code",
   "execution_count": 11,
   "metadata": {},
   "outputs": [],
   "source": [
    "train_features_small, validation_features, train_outcome_small, validation_outcome = train_test_split(\n",
    "    feature,\n",
    "    outcome,\n",
    "    test_size = 0.3\n",
    ")\n",
    "train_name_small, validation_name_features, train_outcome_small_name, validation_name_outcome = train_test_split(\n",
    "    feature_name,\n",
    "    outcome,\n",
    "    test_size = 0.3\n",
    ")"
   ]
  },
  {
   "cell_type": "markdown",
   "metadata": {},
   "source": [
    "# Predict the State by Its Name"
   ]
  },
  {
   "cell_type": "code",
   "execution_count": 69,
   "metadata": {},
   "outputs": [],
   "source": [
    "from sklearn.feature_extraction.text import TfidfTransformer\n",
    "from sklearn.feature_extraction.text import CountVectorizer\n",
    "from sklearn.linear_model import SGDClassifier"
   ]
  },
  {
   "cell_type": "code",
   "execution_count": 35,
   "metadata": {},
   "outputs": [
    {
     "data": {
      "text/plain": [
       "GridSearchCV(cv=5, error_score='raise',\n",
       "       estimator=Pipeline(memory=None,\n",
       "     steps=[('countvectorizer', CountVectorizer(analyzer='word', binary=False, decode_error='strict',\n",
       "        dtype=<class 'numpy.int64'>, encoding='utf-8', input='content',\n",
       "        lowercase=True, max_df=1.0, max_features=None, min_df=1,\n",
       "        ngram_range=(1, 1), preprocessor=None, stop_words=None,\n",
       "  ...='l2', power_t=0.5, random_state=None,\n",
       "       shuffle=True, tol=None, verbose=0, warm_start=False))]),\n",
       "       fit_params=None, iid=False, n_jobs=-1,\n",
       "       param_grid={'countvectorizer__ngram_range': [(1, 1), (1, 2)], 'tfidftransformer__use_idf': (True, False), 'sgdclassifier__alpha': [0.001, 0.001]},\n",
       "       pre_dispatch='2*n_jobs', refit=True, return_train_score='warn',\n",
       "       scoring=None, verbose=0)"
      ]
     },
     "execution_count": 35,
     "metadata": {},
     "output_type": "execute_result"
    }
   ],
   "source": [
    "text_clf = make_pipeline(\n",
    "                    CountVectorizer(),\n",
    "                    TfidfTransformer(),\n",
    "                    SGDClassifier(penalty='l2', tol=None,max_iter=10)\n",
    ")\n",
    "\n",
    "param = {'countvectorizer__ngram_range': [(1, 1), (1, 2)],\n",
    "    'tfidftransformer__use_idf': (True, False),\n",
    "    \"sgdclassifier__alpha\":[1e-3,0.001],\n",
    "}\n",
    "\n",
    "grid_search_text = GridSearchCV(text_clf, n_jobs=-1,cv=5,iid=False,param_grid=param)\n",
    "grid_search_text.fit(train_name_small.name,train_outcome_small_name)"
   ]
  },
  {
   "cell_type": "code",
   "execution_count": 36,
   "metadata": {},
   "outputs": [
    {
     "name": "stdout",
     "output_type": "stream",
     "text": [
      "             precision    recall  f1-score   support\n",
      "\n",
      "      False       0.64      0.99      0.78     72446\n",
      "       True       0.35      0.01      0.02     40313\n",
      "\n",
      "avg / total       0.54      0.64      0.51    112759\n",
      "\n"
     ]
    }
   ],
   "source": [
    "print(classification_report(validation_outcome, grid_search_text.best_estimator_.predict(validation_name_features.name)))"
   ]
  },
  {
   "cell_type": "code",
   "execution_count": 37,
   "metadata": {},
   "outputs": [
    {
     "data": {
      "text/plain": [
       "GridSearchCV(cv=5, error_score='raise',\n",
       "       estimator=Pipeline(memory=None,\n",
       "     steps=[('countvectorizer', CountVectorizer(analyzer='word', binary=False, decode_error='strict',\n",
       "        dtype=<class 'numpy.int64'>, encoding='utf-8', input='content',\n",
       "        lowercase=True, max_df=1.0, max_features=None, min_df=1,\n",
       "        ngram_range=(1, 1), preprocessor=None, stop_words=None,\n",
       "  ...=True, solver='adam', tol=0.0001, validation_fraction=0.1,\n",
       "       verbose=False, warm_start=False))]),\n",
       "       fit_params=None, iid=False, n_jobs=-1,\n",
       "       param_grid={'countvectorizer__ngram_range': [(1, 1), (1, 2)], 'tfidftransformer__use_idf': (True, False)},\n",
       "       pre_dispatch='2*n_jobs', refit=True, return_train_score='warn',\n",
       "       scoring=None, verbose=0)"
      ]
     },
     "execution_count": 37,
     "metadata": {},
     "output_type": "execute_result"
    }
   ],
   "source": [
    "text_clf = make_pipeline(\n",
    "                    CountVectorizer(),\n",
    "                    TfidfTransformer(),\n",
    "                    SelectKBest(k=10),\n",
    "                    MLPClassifier(hidden_layer_sizes=(500,10,2),  \n",
    "                                  activation='relu', \n",
    "                                   batch_size='auto', \n",
    "                                  learning_rate_init=0.01, power_t=0.5, \n",
    "                                  max_iter=1000, shuffle=True,\n",
    "                                  tol=0.0001, verbose=False, warm_start=False,\n",
    "                                  momentum=0.9, nesterovs_momentum=True,\n",
    "                                    early_stopping=False, validation_fraction=0.1,\n",
    "                                  beta_1=0.9,beta_2=0.999, epsilon=1e-08)\n",
    "                                )\n",
    "\n",
    "\n",
    "param = {'countvectorizer__ngram_range': [(1, 1), (1, 2)],\n",
    "    'tfidftransformer__use_idf': (True, False)\n",
    "}\n",
    "\n",
    "grid_search_text = GridSearchCV(text_clf, n_jobs=-1,cv=5,iid=False,param_grid=param)\n",
    "grid_search_text.fit(train_name_small.name,train_outcome_small_name)"
   ]
  },
  {
   "cell_type": "code",
   "execution_count": 38,
   "metadata": {},
   "outputs": [
    {
     "name": "stdout",
     "output_type": "stream",
     "text": [
      "             precision    recall  f1-score   support\n",
      "\n",
      "      False       0.64      1.00      0.78     72446\n",
      "       True       0.00      0.00      0.00     40313\n",
      "\n",
      "avg / total       0.41      0.64      0.50    112759\n",
      "\n"
     ]
    }
   ],
   "source": [
    "print(classification_report(validation_outcome, grid_search_text.predict(validation_name_features.name)))\n"
   ]
  },
  {
   "cell_type": "code",
   "execution_count": 39,
   "metadata": {},
   "outputs": [
    {
     "data": {
      "text/plain": [
       "0.6514255352648519"
      ]
     },
     "execution_count": 39,
     "metadata": {},
     "output_type": "execute_result"
    }
   ],
   "source": [
    "grid_search_text.best_score_"
   ]
  },
  {
   "cell_type": "code",
   "execution_count": 40,
   "metadata": {},
   "outputs": [
    {
     "data": {
      "text/plain": [
       "0.6434874378098422"
      ]
     },
     "execution_count": 40,
     "metadata": {},
     "output_type": "execute_result"
    }
   ],
   "source": [
    "grid_search_text.score(validation_name_features.name,validation_name_outcome)"
   ]
  },
  {
   "cell_type": "code",
   "execution_count": 41,
   "metadata": {},
   "outputs": [],
   "source": [
    "name_proba = grid_search_text.predict_log_proba(validation_features)"
   ]
  },
  {
   "cell_type": "markdown",
   "metadata": {},
   "source": [
    "# Predict the State by other value"
   ]
  },
  {
   "cell_type": "code",
   "execution_count": 12,
   "metadata": {},
   "outputs": [],
   "source": [
    "from sklearn.ensemble import RandomForestClassifier\n",
    "rfc = RandomForestClassifier(max_features=\"auto\",max_depth=4, min_samples_split=2)\n",
    "pipe = make_pipeline(VarianceThreshold(.1),\n",
    "                     SelectKBest(k=9),\n",
    "                     rfc\n",
    "                     )\n",
    "\n",
    "params ={'randomforestclassifier__n_estimators':range(20,50,10),\n",
    "        }\n",
    "\n",
    "grid_search_rf = GridSearchCV(pipe, params,\n",
    "                               cv = KFold(n_splits=10, shuffle=True),n_jobs = -1)"
   ]
  },
  {
   "cell_type": "code",
   "execution_count": 13,
   "metadata": {},
   "outputs": [
    {
     "data": {
      "text/plain": [
       "GridSearchCV(cv=KFold(n_splits=10, random_state=None, shuffle=True),\n",
       "       error_score='raise',\n",
       "       estimator=Pipeline(memory=None,\n",
       "     steps=[('variancethreshold', VarianceThreshold(threshold=0.1)), ('selectkbest', SelectKBest(k=9, score_func=<function f_classif at 0x0000028CDE3B88C8>)), ('randomforestclassifier', RandomForestClassifier(bootstrap=True, class_weight=None, criterion='gini',\n",
       "            max_depth=4, max_features='auto...n_jobs=1,\n",
       "            oob_score=False, random_state=None, verbose=0,\n",
       "            warm_start=False))]),\n",
       "       fit_params=None, iid=True, n_jobs=-1,\n",
       "       param_grid={'randomforestclassifier__n_estimators': range(20, 50, 10)},\n",
       "       pre_dispatch='2*n_jobs', refit=True, return_train_score='warn',\n",
       "       scoring=None, verbose=0)"
      ]
     },
     "execution_count": 13,
     "metadata": {},
     "output_type": "execute_result"
    }
   ],
   "source": [
    "grid_search_rf.fit(train_features_small,train_outcome_small)"
   ]
  },
  {
   "cell_type": "code",
   "execution_count": 14,
   "metadata": {},
   "outputs": [
    {
     "name": "stdout",
     "output_type": "stream",
     "text": [
      "             precision    recall  f1-score   support\n",
      "\n",
      "          0       0.62      0.99      0.76     69085\n",
      "          1       0.00      0.00      0.00      2557\n",
      "          2       0.64      0.05      0.09     29360\n",
      "          3       0.00      0.00      0.00     11757\n",
      "\n",
      "avg / total       0.55      0.62      0.49    112759\n",
      "\n"
     ]
    }
   ],
   "source": [
    "print(classification_report(validation_outcome, grid_search_rf.best_estimator_.predict(validation_features)))"
   ]
  },
  {
   "cell_type": "code",
   "execution_count": 15,
   "metadata": {},
   "outputs": [
    {
     "data": {
      "text/plain": [
       "{'randomforestclassifier__n_estimators': 40}"
      ]
     },
     "execution_count": 15,
     "metadata": {},
     "output_type": "execute_result"
    }
   ],
   "source": [
    "grid_search_rf.best_params_"
   ]
  },
  {
   "cell_type": "code",
   "execution_count": 16,
   "metadata": {},
   "outputs": [
    {
     "data": {
      "text/plain": [
       "0.6197820129657057"
      ]
     },
     "execution_count": 16,
     "metadata": {},
     "output_type": "execute_result"
    }
   ],
   "source": [
    "grid_search_rf.score(validation_features,validation_outcome)"
   ]
  },
  {
   "cell_type": "code",
   "execution_count": 17,
   "metadata": {},
   "outputs": [
    {
     "ename": "NameError",
     "evalue": "name 'name_proba' is not defined",
     "output_type": "error",
     "traceback": [
      "\u001b[1;31m---------------------------------------------------------------------------\u001b[0m",
      "\u001b[1;31mNameError\u001b[0m                                 Traceback (most recent call last)",
      "\u001b[1;32m<ipython-input-17-dd4280a60bcf>\u001b[0m in \u001b[0;36m<module>\u001b[1;34m()\u001b[0m\n\u001b[0;32m      1\u001b[0m \u001b[0mrf_proba\u001b[0m \u001b[1;33m=\u001b[0m \u001b[0mgrid_search_rf\u001b[0m\u001b[1;33m.\u001b[0m\u001b[0mpredict_log_proba\u001b[0m\u001b[1;33m(\u001b[0m\u001b[0mvalidation_features\u001b[0m\u001b[1;33m)\u001b[0m\u001b[1;33m\u001b[0m\u001b[0m\n\u001b[1;32m----> 2\u001b[1;33m \u001b[0mlen\u001b[0m\u001b[1;33m(\u001b[0m\u001b[0mname_proba\u001b[0m\u001b[1;33m)\u001b[0m\u001b[1;33m\u001b[0m\u001b[0m\n\u001b[0m\u001b[0;32m      3\u001b[0m \u001b[0mlen\u001b[0m\u001b[1;33m(\u001b[0m\u001b[0mrf_proba\u001b[0m\u001b[1;33m)\u001b[0m\u001b[1;33m\u001b[0m\u001b[0m\n",
      "\u001b[1;31mNameError\u001b[0m: name 'name_proba' is not defined"
     ]
    }
   ],
   "source": [
    "rf_proba = grid_search_rf.predict_log_proba(validation_features)\n",
    "len(name_proba)\n",
    "len(rf_proba)"
   ]
  },
  {
   "cell_type": "markdown",
   "metadata": {},
   "source": [
    "# Combine two Prediction Together"
   ]
  },
  {
   "cell_type": "code",
   "execution_count": 42,
   "metadata": {},
   "outputs": [
    {
     "ename": "ValueError",
     "evalue": "operands could not be broadcast together with shapes (9,2) (112759,2) ",
     "output_type": "error",
     "traceback": [
      "\u001b[1;31m---------------------------------------------------------------------------\u001b[0m",
      "\u001b[1;31mValueError\u001b[0m                                Traceback (most recent call last)",
      "\u001b[1;32m<ipython-input-42-9cba3b4de33d>\u001b[0m in \u001b[0;36m<module>\u001b[1;34m()\u001b[0m\n\u001b[1;32m----> 1\u001b[1;33m \u001b[0mtotal_proba\u001b[0m \u001b[1;33m=\u001b[0m \u001b[0mname_proba\u001b[0m \u001b[1;33m*\u001b[0m \u001b[0mrf_proba\u001b[0m\u001b[1;33m\u001b[0m\u001b[0m\n\u001b[0m",
      "\u001b[1;31mValueError\u001b[0m: operands could not be broadcast together with shapes (9,2) (112759,2) "
     ]
    }
   ],
   "source": [
    "total_proba = name_proba * rf_proba"
   ]
  },
  {
   "cell_type": "code",
   "execution_count": 108,
   "metadata": {},
   "outputs": [
    {
     "data": {
      "text/plain": [
       "array([[0.27718412, 0.79689983],\n",
       "       [0.52655006, 0.43774873],\n",
       "       [0.29568657, 0.75431854],\n",
       "       ...,\n",
       "       [0.10719979, 1.48391614],\n",
       "       [0.657058  , 0.30049206],\n",
       "       [0.4828025 , 0.47806432]])"
      ]
     },
     "execution_count": 108,
     "metadata": {},
     "output_type": "execute_result"
    }
   ],
   "source": [
    "total_proba"
   ]
  },
  {
   "cell_type": "code",
   "execution_count": 112,
   "metadata": {},
   "outputs": [],
   "source": [
    "total_pred = [(x[0] >= x[1])for x in total_proba]"
   ]
  },
  {
   "cell_type": "code",
   "execution_count": 113,
   "metadata": {},
   "outputs": [],
   "source": [
    "validation_outcome[\"pred\"] = total_pred"
   ]
  },
  {
   "cell_type": "code",
   "execution_count": 114,
   "metadata": {},
   "outputs": [
    {
     "data": {
      "text/plain": [
       "0.643489018663616"
      ]
     },
     "execution_count": 114,
     "metadata": {},
     "output_type": "execute_result"
    }
   ],
   "source": [
    "len(validation_outcome[validation_outcome[\"pred\"]==validation_outcome[\"state\"]])/len(validation_outcome)"
   ]
  },
  {
   "cell_type": "markdown",
   "metadata": {},
   "source": [
    "### Neural Network test"
   ]
  },
  {
   "cell_type": "code",
   "execution_count": 118,
   "metadata": {},
   "outputs": [],
   "source": [
    "from sklearn.neural_network import MLPClassifier\n",
    "\n",
    "    \n",
    "pipe = make_pipeline(VarianceThreshold(0.1),\n",
    "                    SelectKBest(k = 9),\n",
    "                     MLPClassifier(hidden_layer_sizes=(13,5,),  \n",
    "                                  activation='relu', \n",
    "                                   batch_size='auto', \n",
    "                                  learning_rate_init=0.01, power_t=0.5, \n",
    "                                  max_iter=1000, shuffle=True,\n",
    "                                  tol=0.0001, verbose=False, warm_start=False,\n",
    "                                  momentum=0.9, nesterovs_momentum=True,\n",
    "                                    early_stopping=False, validation_fraction=0.1,\n",
    "                                  beta_1=0.9,beta_2=0.999, epsilon=1e-08)\n",
    "                                )\n",
    "params ={'mlpclassifier__alpha':[0.0001,0.001,0.01],\n",
    "         'mlpclassifier__solver':['lbfgs',  'adam']\n",
    "        }\n",
    "\n",
    "grid_search_nn = GridSearchCV(pipe, param_grid = params,cv = KFold(n_splits=5, shuffle=True),n_jobs=-1)"
   ]
  },
  {
   "cell_type": "code",
   "execution_count": 119,
   "metadata": {},
   "outputs": [],
   "source": [
    "train_outcome_small.state = train_outcome_small.state.astype(int)"
   ]
  },
  {
   "cell_type": "code",
   "execution_count": 120,
   "metadata": {},
   "outputs": [
    {
     "data": {
      "text/plain": [
       "GridSearchCV(cv=KFold(n_splits=5, random_state=None, shuffle=True),\n",
       "       error_score='raise',\n",
       "       estimator=Pipeline(memory=None,\n",
       "     steps=[('variancethreshold', VarianceThreshold(threshold=0.1)), ('selectkbest', SelectKBest(k=9, score_func=<function f_classif at 0x000001A742D0AA60>)), ('mlpclassifier', MLPClassifier(activation='relu', alpha=0.0001, batch_size='auto', beta_1=0.9,\n",
       "       beta_2=0.999, early_stopping=False, epsilon...=True, solver='adam', tol=0.0001, validation_fraction=0.1,\n",
       "       verbose=False, warm_start=False))]),\n",
       "       fit_params=None, iid=True, n_jobs=-1,\n",
       "       param_grid={'mlpclassifier__alpha': [0.0001, 0.001, 0.01], 'mlpclassifier__solver': ['lbfgs', 'adam']},\n",
       "       pre_dispatch='2*n_jobs', refit=True, return_train_score='warn',\n",
       "       scoring=None, verbose=0)"
      ]
     },
     "execution_count": 120,
     "metadata": {},
     "output_type": "execute_result"
    }
   ],
   "source": [
    "grid_search_nn.fit(train_features_small,train_outcome_small)"
   ]
  },
  {
   "cell_type": "code",
   "execution_count": 121,
   "metadata": {},
   "outputs": [
    {
     "data": {
      "text/plain": [
       "0.6434342269796646"
      ]
     },
     "execution_count": 121,
     "metadata": {},
     "output_type": "execute_result"
    }
   ],
   "source": [
    "grid_search_nn.score(validation_features,validation_outcome)"
   ]
  },
  {
   "cell_type": "code",
   "execution_count": null,
   "metadata": {},
   "outputs": [],
   "source": []
  }
 ],
 "metadata": {
  "kernelspec": {
   "display_name": "Python 3",
   "language": "python",
   "name": "python3"
  },
  "language_info": {
   "codemirror_mode": {
    "name": "ipython",
    "version": 3
   },
   "file_extension": ".py",
   "mimetype": "text/x-python",
   "name": "python",
   "nbconvert_exporter": "python",
   "pygments_lexer": "ipython3",
   "version": "3.7.0"
  }
 },
 "nbformat": 4,
 "nbformat_minor": 2
}
