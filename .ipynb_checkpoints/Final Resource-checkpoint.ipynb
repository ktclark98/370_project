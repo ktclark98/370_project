{
 "cells": [
  {
   "cell_type": "markdown",
   "metadata": {},
   "source": [
    "# What makes a Kickstarter campaign successful?"
   ]
  },
  {
   "cell_type": "markdown",
   "metadata": {},
   "source": [
    "## Project Overview"
   ]
  },
  {
   "cell_type": "markdown",
   "metadata": {},
   "source": [
    "The main purpose of our research project is to predict what makes a successful Kickstarter campaign. We will evaluate what kind of campaign people donate the most (e.g. board games, movies, apps, etc). In addition, we have built a model for predicting the success rate of campaigns based on different features of the campaign. "
   ]
  },
  {
   "cell_type": "markdown",
   "metadata": {},
   "source": [
    "This is important as it helps people who potentially want to do a Kickstarter know the most effective ways for achieving success. Sites such as Kickstarter and Indiegogo have become immensely popular, but not every campaign is successful. Being able to predict which projects are likely to succeed or fail can stop customers from spending their money on a risky project. Since 2012, Kickstarter had over 400,000 campaigns and there have been more 3.9 billion dollars pledged to campaigns. Of that 3.9 billion dollars, 408 million dollars have been spent on unsuccessful campaigns Kickstarter Statistics 2012-2018. Thus, from our data, inventors and investors alike can benefit the most from Kickstarter. "
   ]
  },
  {
   "cell_type": "markdown",
   "metadata": {},
   "source": [
    "Over 300,000 Kickstarter projects have been web-scraped from the Kickstarter platform and combined into one Kaggle dataset  containing information on many aspects of each campaign. Each campaign happened in the time frame of 2011 to 2015 and was deemed successful or unsuccessful (whether the campaign reached its original goal). Some of the features captured in each campaign are: \n",
    "\n",
    "- Name: name of project \n",
    "- Main Category: category of campaign\n",
    "- Currency: currency used to support\n",
    "- Deadline: date end for crowdfunding\n",
    "- Goal: fundraising goal (the amount of money that a creator needs to complete their project)\n",
    "- Launched: date the campaign was launched\n",
    "- Pledged: amount pledged by \"crowd\"\n",
    "- State: condition the project finished in (failed, successful, canceled)\n",
    "- Backers: number of backers (count of investors)\n",
    "\n",
    "Out of this data, we can explore many relationships between the State (whether it was successful or not) and other features. In other words, do these features have a relationship with the outcome/state? These data points can be further divided into features that predict the outcome of the campaign (whether its successful or not) and those that are found after a campaign ends (the amount of success, money, etc.). The after data can be used in training and testing a machine learning algorithm. \n"
   ]
  },
  {
   "cell_type": "markdown",
   "metadata": {},
   "source": [
    "## Data Cleaning & Feature Engineering"
   ]
  },
  {
   "cell_type": "markdown",
   "metadata": {},
   "source": [
    "To address null values or messy data found in the dataset, we implemented proper data cleaning techniques. For any null values, the value was filled with the average of the column/feature. Categorical data was converted into numerical values with a Label Encoder, which gave all unique categories a number. In addition, the dataset included campaigns that were still running. Because the data was scraped at a certain time, we removed all of these campaigns as their state variables would not be correct as compared to the rest of the data (the campaigns were still ongoing and could be a false negative). "
   ]
  },
  {
   "cell_type": "code",
   "execution_count": 35,
   "metadata": {},
   "outputs": [],
   "source": [
    "import pandas as pd\n",
    "import numpy as np\n",
    "from matplotlib import pyplot as plt\n",
    "import seaborn as sns\n",
    "from sklearn.preprocessing import LabelEncoder, Imputer\n",
    "from sklearn.metrics import accuracy_score,mean_absolute_error\n",
    "from sklearn.tree import DecisionTreeRegressor\n",
    "from sklearn.neighbors import KNeighborsClassifier,KNeighborsRegressor\n",
    "from sklearn.pipeline import make_pipeline,make_union\n",
    "from sklearn.preprocessing import MinMaxScaler, Imputer,PolynomialFeatures, StandardScaler\n",
    "from sklearn.model_selection import GridSearchCV,KFold,train_test_split\n",
    "import warnings\n",
    "from sklearn.feature_selection import SelectKBest, VarianceThreshold\n",
    "warnings.filterwarnings('ignore')\n",
    "from sklearn.metrics import classification_report"
   ]
  },
  {
   "cell_type": "code",
   "execution_count": 36,
   "metadata": {},
   "outputs": [],
   "source": [
    "#Load the data\n",
    "origin_data = pd.read_csv('./Data/ks-projects-201801.csv',index_col=[0])\n",
    "\n",
    "data = origin_data.copy()\n",
    "#In this project, we ignore the title's factor to the successful rate. \n",
    "#data.drop(\"name\",inplace=True, axis=1)\n",
    "\n",
    "#We only consider the projects are completed. \n",
    "data = data[data.state != \"live\"]\n",
    "\n",
    "#There are many other states like failed, suspended, we consider them as failed.\n",
    "data.state = data.state == \"successful\""
   ]
  },
  {
   "cell_type": "code",
   "execution_count": 37,
   "metadata": {},
   "outputs": [],
   "source": [
    "#Convert the data to datetime\n",
    "data.deadline = pd.to_datetime(data.deadline)\n",
    "data.launched = pd.to_datetime(data.launched)"
   ]
  },
  {
   "cell_type": "code",
   "execution_count": 38,
   "metadata": {},
   "outputs": [],
   "source": [
    "# Remove data points that say date launched is in 1970\n",
    "low = min(data.launched)\n",
    "data = data[data.launched != low]"
   ]
  },
  {
   "cell_type": "markdown",
   "metadata": {},
   "source": [
    "### Check for Null data and use bfill to fill the data\n"
   ]
  },
  {
   "cell_type": "code",
   "execution_count": 39,
   "metadata": {},
   "outputs": [],
   "source": [
    "pd.isna(data).any()\n",
    "data.fillna(method=\"bfill\",inplace=True)"
   ]
  },
  {
   "cell_type": "code",
   "execution_count": 40,
   "metadata": {},
   "outputs": [],
   "source": [
    "data.category = \"sub_\"+ data.category\n",
    "rawdata = data.copy()\n",
    "le = LabelEncoder()\n",
    "total =[]\n",
    "for col in data.columns:\n",
    "        if col != \"name\":\n",
    "            if data.dtypes[col] == \"object\":\n",
    "                total +=  list(data[col].astype(str))\n",
    "le.fit(total)\n",
    "for col in data.columns:\n",
    "        if col != \"name\":\n",
    "            if data.dtypes[col] == \"object\":\n",
    "                data[col] = le.transform(data[col].astype(str))"
   ]
  },
  {
   "cell_type": "code",
   "execution_count": 41,
   "metadata": {},
   "outputs": [],
   "source": [
    "num_cam = data['launched'].groupby([data['launched'].dt.year.rename('year'), data['launched'].dt.month.rename('month')]).agg({'count'})\n"
   ]
  },
  {
   "cell_type": "code",
   "execution_count": 42,
   "metadata": {},
   "outputs": [],
   "source": [
    "data[\"month\"] = data[\"launched\"].dt.month\n",
    "data[\"month_deadline\"] = data[\"deadline\"].dt.month\n",
    "data[\"launch_day_of_week\"] = data[\"launched\"].dt.dayofweek\n",
    "data[\"duration\"] = ((data[\"deadline\"]  - data['launched'])/ np.timedelta64(1, 'D')).astype(int)\n",
    "data[\"year\"] = data[\"launched\"].dt.year"
   ]
  },
  {
   "cell_type": "code",
   "execution_count": 43,
   "metadata": {},
   "outputs": [],
   "source": [
    "data = pd.merge(data, num_cam, on=[\"month\",\"year\"])"
   ]
  },
  {
   "cell_type": "code",
   "execution_count": 44,
   "metadata": {},
   "outputs": [
    {
     "data": {
      "text/html": [
       "<div>\n",
       "<style scoped>\n",
       "    .dataframe tbody tr th:only-of-type {\n",
       "        vertical-align: middle;\n",
       "    }\n",
       "\n",
       "    .dataframe tbody tr th {\n",
       "        vertical-align: top;\n",
       "    }\n",
       "\n",
       "    .dataframe thead th {\n",
       "        text-align: right;\n",
       "    }\n",
       "</style>\n",
       "<table border=\"1\" class=\"dataframe\">\n",
       "  <thead>\n",
       "    <tr style=\"text-align: right;\">\n",
       "      <th></th>\n",
       "      <th>name</th>\n",
       "      <th>category</th>\n",
       "      <th>main_category</th>\n",
       "      <th>currency</th>\n",
       "      <th>deadline</th>\n",
       "      <th>goal</th>\n",
       "      <th>launched</th>\n",
       "      <th>pledged</th>\n",
       "      <th>state</th>\n",
       "      <th>backers</th>\n",
       "      <th>country</th>\n",
       "      <th>usd pledged</th>\n",
       "      <th>usd_pledged_real</th>\n",
       "      <th>usd_goal_real</th>\n",
       "      <th>month</th>\n",
       "      <th>month_deadline</th>\n",
       "      <th>launch_day_of_week</th>\n",
       "      <th>duration</th>\n",
       "      <th>year</th>\n",
       "      <th>count</th>\n",
       "    </tr>\n",
       "  </thead>\n",
       "  <tbody>\n",
       "    <tr>\n",
       "      <th>0</th>\n",
       "      <td>The Songs of Adelaide &amp; Abullah</td>\n",
       "      <td>160</td>\n",
       "      <td>43</td>\n",
       "      <td>23</td>\n",
       "      <td>2015-10-09</td>\n",
       "      <td>1000.0</td>\n",
       "      <td>2015-08-11 12:12:28</td>\n",
       "      <td>0.0</td>\n",
       "      <td>False</td>\n",
       "      <td>0</td>\n",
       "      <td>22</td>\n",
       "      <td>0.0</td>\n",
       "      <td>0.0</td>\n",
       "      <td>1533.95</td>\n",
       "      <td>8</td>\n",
       "      <td>10</td>\n",
       "      <td>1</td>\n",
       "      <td>58</td>\n",
       "      <td>2015</td>\n",
       "      <td>5723</td>\n",
       "    </tr>\n",
       "    <tr>\n",
       "      <th>1</th>\n",
       "      <td>Legacy of Svarog | a Unique 3D Action RPG and ...</td>\n",
       "      <td>200</td>\n",
       "      <td>24</td>\n",
       "      <td>51</td>\n",
       "      <td>2015-10-30</td>\n",
       "      <td>50000.0</td>\n",
       "      <td>2015-08-31 06:33:31</td>\n",
       "      <td>1410.0</td>\n",
       "      <td>False</td>\n",
       "      <td>38</td>\n",
       "      <td>50</td>\n",
       "      <td>1410.0</td>\n",
       "      <td>1410.0</td>\n",
       "      <td>50000.00</td>\n",
       "      <td>8</td>\n",
       "      <td>10</td>\n",
       "      <td>0</td>\n",
       "      <td>59</td>\n",
       "      <td>2015</td>\n",
       "      <td>5723</td>\n",
       "    </tr>\n",
       "  </tbody>\n",
       "</table>\n",
       "</div>"
      ],
      "text/plain": [
       "                                                name  category  main_category  \\\n",
       "0                    The Songs of Adelaide & Abullah       160             43   \n",
       "1  Legacy of Svarog | a Unique 3D Action RPG and ...       200             24   \n",
       "\n",
       "   currency   deadline     goal            launched  pledged  state  backers  \\\n",
       "0        23 2015-10-09   1000.0 2015-08-11 12:12:28      0.0  False        0   \n",
       "1        51 2015-10-30  50000.0 2015-08-31 06:33:31   1410.0  False       38   \n",
       "\n",
       "   country  usd pledged  usd_pledged_real  usd_goal_real  month  \\\n",
       "0       22          0.0               0.0        1533.95      8   \n",
       "1       50       1410.0            1410.0       50000.00      8   \n",
       "\n",
       "   month_deadline  launch_day_of_week  duration  year  count  \n",
       "0              10                   1        58  2015   5723  \n",
       "1              10                   0        59  2015   5723  "
      ]
     },
     "execution_count": 44,
     "metadata": {},
     "output_type": "execute_result"
    }
   ],
   "source": [
    "data.head(2)"
   ]
  },
  {
   "cell_type": "code",
   "execution_count": 45,
   "metadata": {},
   "outputs": [
    {
     "name": "stdout",
     "output_type": "stream",
     "text": [
      "Stored 'data' (DataFrame)\n",
      "Stored 'le' (LabelEncoder)\n",
      "Stored 'rawdata' (DataFrame)\n"
     ]
    }
   ],
   "source": [
    "%store data\n",
    "%store le\n",
    "%store rawdata"
   ]
  },
  {
   "cell_type": "markdown",
   "metadata": {},
   "source": [
    "### Convert Catagorial Data to Numerical"
   ]
  },
  {
   "cell_type": "markdown",
   "metadata": {},
   "source": [
    "### Feature Engineering"
   ]
  },
  {
   "cell_type": "markdown",
   "metadata": {},
   "source": [
    "There were a couple new features engineered in our data exploration. First, a duration variable was created that found the number of days between the date started and the date ended. Kickstarter states, “We recommend setting your campaign at 30 days or less.,” (Kickstarter Help Website). Therefore, while Kickstarter allows users to set their duration up to 60 days, duration of the campaign affects the overall success. \n"
   ]
  },
  {
   "cell_type": "markdown",
   "metadata": {},
   "source": [
    "Another feature was the Day of Week that the campaign was launched. We wanted to explore whether the state had a relationship with this variable. Do people generally donate more or are exposed to more campaigns on certain days of the week? This variable was found by a simple algorithm that found the day of the week from the exact date given. \n"
   ]
  },
  {
   "cell_type": "markdown",
   "metadata": {},
   "source": [
    "Next, we further separated the state variable into a more in-depth range of data. Essentially, the State feature was separated into the range of: ‘Extreme Failure’, ‘Failed’, ‘Successful’, ‘Very Successful’ which divided the state into more categories by the differences in goal and the amount failed/succeeded. \n"
   ]
  },
  {
   "cell_type": "markdown",
   "metadata": {},
   "source": [
    "Finally, we wanted to assess how many projects were created in the month that a project was released. This may affect the success of a project. For example, if many other projects were launched around the same time, one campaign may be hidden/overshadowed by the many other campaigns. Therefore, a column was created that counted the number of campaigns launched in that month. \n"
   ]
  },
  {
   "cell_type": "markdown",
   "metadata": {},
   "source": [
    "## Exploratory Data Analysis"
   ]
  },
  {
   "cell_type": "markdown",
   "metadata": {},
   "source": [
    "Data exploration was first done to understand the distribution of data and the relationships between different features. The first four visualizations explain the distributions of campaigns by categories and sub-categories. In addition, the rate of success for all campaigns in the dataset is shown in a detailed summary below. Finally, we have explored the correlations between features with a heat map. The lighter the square, the more correlated the two features are to each other. Using this visualization, we can explore models and machine learning algorithms with the most correlated features. \n"
   ]
  },
  {
   "cell_type": "code",
   "execution_count": 12,
   "metadata": {},
   "outputs": [
    {
     "data": {
      "image/png": "[encoded data removed]",
      "text/plain": [
       "<Figure size 600x400 with 1 Axes>"
      ]
     },
     "metadata": {},
     "output_type": "display_data"
    }
   ],
   "source": [
    "sns.set_style('darkgrid')\n",
    "mains =rawdata.main_category.value_counts().head(15)\n",
    "\n",
    "x = mains.values\n",
    "y = mains.index\n",
    "\n",
    "fig = plt.figure(dpi=100)\n",
    "ax = fig.add_subplot(111)\n",
    "ax = sns.barplot(y=y, x=x, orient='h', alpha=0.8)\n",
    "\n",
    "plt.title('Kickstarter Top 15 Category Count')\n",
    "plt.show()"
   ]
  },
  {
   "cell_type": "code",
   "execution_count": 13,
   "metadata": {},
   "outputs": [
    {
     "data": {
      "image/png": "[encoded data removed]",
      "text/plain": [
       "<Figure size 600x400 with 1 Axes>"
      ]
     },
     "metadata": {},
     "output_type": "display_data"
    }
   ],
   "source": [
    "cats = rawdata.category.value_counts().head(15)\n",
    "\n",
    "x = cats.values\n",
    "y = cats.index\n",
    "\n",
    "fig = plt.figure(dpi=100)\n",
    "ax = fig.add_subplot(111)\n",
    "ax = sns.barplot(y=y, x=x, orient='h', alpha=0.8)\n",
    "\n",
    "plt.title('Kickstarter Top 15 Sub-Category Count')\n",
    "plt.show()"
   ]
  },
  {
   "cell_type": "code",
   "execution_count": 14,
   "metadata": {},
   "outputs": [
    {
     "data": {
      "image/png": "[encoded data removed]",
      "text/plain": [
       "<Figure size 600x400 with 1 Axes>"
      ]
     },
     "metadata": {},
     "output_type": "display_data"
    }
   ],
   "source": [
    "successful_data = data[data.state == 1]\n",
    "suc_cats = successful_data.main_category.value_counts().head(15)\n",
    "\n",
    "x = suc_cats.values\n",
    "y = suc_cats.index\n",
    "\n",
    "fig = plt.figure(dpi=100)\n",
    "ax = fig.add_subplot(111)\n",
    "ax = sns.barplot(y=y, x=x, orient='h',  alpha=0.8)\n",
    "\n",
    "plt.title('Kickstarter Top 15 Main Category Successful Project Count')\n",
    "plt.show()"
   ]
  },
  {
   "cell_type": "code",
   "execution_count": 15,
   "metadata": {},
   "outputs": [
    {
     "data": {
      "image/png": "[encoded data removed]",
      "text/plain": [
       "<Figure size 600x400 with 1 Axes>"
      ]
     },
     "metadata": {},
     "output_type": "display_data"
    }
   ],
   "source": [
    "successful_data = data[data.state == 1]\n",
    "suc_cats = successful_data.category.value_counts().head(15)\n",
    "\n",
    "x = suc_cats.values\n",
    "y = suc_cats.index\n",
    "\n",
    "fig = plt.figure(dpi=100)\n",
    "ax = fig.add_subplot(111)\n",
    "ax = sns.barplot(y=y, x=x, orient='h', alpha=0.8)\n",
    "\n",
    "plt.title('Kickstarter Top 15 Sub-Category Successful Project Count')\n",
    "plt.show()"
   ]
  },
  {
   "cell_type": "code",
   "execution_count": 16,
   "metadata": {},
   "outputs": [
    {
     "name": "stdout",
     "output_type": "stream",
     "text": [
      "Total Number of Completed Projects: 375855 \n",
      "Total Number of Successful Projects: 133956 \n",
      "Successful Rate Among All projects: 35.64%\n",
      "Number of Catagories: Main catagories num - 15 Sub catagories num - 159 \n",
      "\n"
     ]
    }
   ],
   "source": [
    "print(\"Total Number of Completed Projects:\", len(data),\"\\n\"\n",
    "      \"Total Number of Successful Projects:\", len(data[data.state == 1]),\"\\n\"\n",
    "      \"Successful Rate Among All projects:\",str(round(len(data[data.state == 1])/len(data)* 100,2)) + \"%\\n\"\n",
    "      \"Number of Catagories: Main catagories num -\", len(set(data[\"main_category\"])), \"Sub catagories num -\", len(set(data[\"category\"])),\"\\n\"\n",
    "     )"
   ]
  },
  {
   "cell_type": "code",
   "execution_count": 17,
   "metadata": {},
   "outputs": [
    {
     "data": {
      "text/html": [
       "<div>\n",
       "<style scoped>\n",
       "    .dataframe tbody tr th:only-of-type {\n",
       "        vertical-align: middle;\n",
       "    }\n",
       "\n",
       "    .dataframe tbody tr th {\n",
       "        vertical-align: top;\n",
       "    }\n",
       "\n",
       "    .dataframe thead th {\n",
       "        text-align: right;\n",
       "    }\n",
       "</style>\n",
       "<table border=\"1\" class=\"dataframe\">\n",
       "  <thead>\n",
       "    <tr style=\"text-align: right;\">\n",
       "      <th></th>\n",
       "      <th>category</th>\n",
       "      <th>main_category</th>\n",
       "      <th>currency</th>\n",
       "      <th>goal</th>\n",
       "      <th>pledged</th>\n",
       "      <th>backers</th>\n",
       "      <th>country</th>\n",
       "      <th>usd pledged</th>\n",
       "      <th>usd_pledged_real</th>\n",
       "      <th>usd_goal_real</th>\n",
       "      <th>month</th>\n",
       "      <th>month_deadline</th>\n",
       "      <th>launch_day_of_week</th>\n",
       "      <th>duration</th>\n",
       "      <th>year</th>\n",
       "      <th>count</th>\n",
       "    </tr>\n",
       "  </thead>\n",
       "  <tbody>\n",
       "    <tr>\n",
       "      <th>count</th>\n",
       "      <td>375855.000000</td>\n",
       "      <td>375855.000000</td>\n",
       "      <td>375855.000000</td>\n",
       "      <td>3.758550e+05</td>\n",
       "      <td>3.758550e+05</td>\n",
       "      <td>375855.000000</td>\n",
       "      <td>375855.000000</td>\n",
       "      <td>3.758550e+05</td>\n",
       "      <td>3.758550e+05</td>\n",
       "      <td>3.758550e+05</td>\n",
       "      <td>375855.000000</td>\n",
       "      <td>375855.000000</td>\n",
       "      <td>375855.000000</td>\n",
       "      <td>375855.000000</td>\n",
       "      <td>375855.000000</td>\n",
       "      <td>375855.000000</td>\n",
       "    </tr>\n",
       "    <tr>\n",
       "      <th>mean</th>\n",
       "      <td>132.781833</td>\n",
       "      <td>26.595474</td>\n",
       "      <td>43.721326</td>\n",
       "      <td>4.887546e+04</td>\n",
       "      <td>9.687611e+03</td>\n",
       "      <td>105.898839</td>\n",
       "      <td>42.864804</td>\n",
       "      <td>7.072522e+03</td>\n",
       "      <td>9.082847e+03</td>\n",
       "      <td>4.532795e+04</td>\n",
       "      <td>6.425505</td>\n",
       "      <td>6.761929</td>\n",
       "      <td>2.421998</td>\n",
       "      <td>33.161703</td>\n",
       "      <td>2014.227838</td>\n",
       "      <td>4835.965085</td>\n",
       "    </tr>\n",
       "    <tr>\n",
       "      <th>std</th>\n",
       "      <td>45.088332</td>\n",
       "      <td>13.459365</td>\n",
       "      <td>14.543028</td>\n",
       "      <td>1.176606e+06</td>\n",
       "      <td>9.588738e+04</td>\n",
       "      <td>909.960752</td>\n",
       "      <td>14.309311</td>\n",
       "      <td>7.861419e+04</td>\n",
       "      <td>9.127160e+04</td>\n",
       "      <td>1.145876e+06</td>\n",
       "      <td>3.310168</td>\n",
       "      <td>3.320284</td>\n",
       "      <td>1.764473</td>\n",
       "      <td>12.781795</td>\n",
       "      <td>1.915768</td>\n",
       "      <td>1902.250758</td>\n",
       "    </tr>\n",
       "    <tr>\n",
       "      <th>min</th>\n",
       "      <td>52.000000</td>\n",
       "      <td>3.000000</td>\n",
       "      <td>2.000000</td>\n",
       "      <td>1.000000e-02</td>\n",
       "      <td>0.000000e+00</td>\n",
       "      <td>0.000000</td>\n",
       "      <td>0.000000</td>\n",
       "      <td>0.000000e+00</td>\n",
       "      <td>0.000000e+00</td>\n",
       "      <td>1.000000e-02</td>\n",
       "      <td>1.000000</td>\n",
       "      <td>1.000000</td>\n",
       "      <td>0.000000</td>\n",
       "      <td>0.000000</td>\n",
       "      <td>2009.000000</td>\n",
       "      <td>2.000000</td>\n",
       "    </tr>\n",
       "    <tr>\n",
       "      <th>30%</th>\n",
       "      <td>104.000000</td>\n",
       "      <td>20.000000</td>\n",
       "      <td>51.000000</td>\n",
       "      <td>2.500000e+03</td>\n",
       "      <td>7.000000e+01</td>\n",
       "      <td>3.000000</td>\n",
       "      <td>50.000000</td>\n",
       "      <td>4.000000e+01</td>\n",
       "      <td>7.000000e+01</td>\n",
       "      <td>2.500000e+03</td>\n",
       "      <td>4.000000</td>\n",
       "      <td>5.000000</td>\n",
       "      <td>1.000000</td>\n",
       "      <td>29.000000</td>\n",
       "      <td>2013.000000</td>\n",
       "      <td>3962.000000</td>\n",
       "    </tr>\n",
       "    <tr>\n",
       "      <th>50%</th>\n",
       "      <td>139.000000</td>\n",
       "      <td>21.000000</td>\n",
       "      <td>51.000000</td>\n",
       "      <td>5.100000e+03</td>\n",
       "      <td>6.250000e+02</td>\n",
       "      <td>12.000000</td>\n",
       "      <td>50.000000</td>\n",
       "      <td>4.000000e+02</td>\n",
       "      <td>6.276000e+02</td>\n",
       "      <td>5.480040e+03</td>\n",
       "      <td>6.000000</td>\n",
       "      <td>7.000000</td>\n",
       "      <td>2.000000</td>\n",
       "      <td>29.000000</td>\n",
       "      <td>2014.000000</td>\n",
       "      <td>4463.000000</td>\n",
       "    </tr>\n",
       "    <tr>\n",
       "      <th>70%</th>\n",
       "      <td>165.000000</td>\n",
       "      <td>35.000000</td>\n",
       "      <td>51.000000</td>\n",
       "      <td>1.250000e+04</td>\n",
       "      <td>2.942000e+03</td>\n",
       "      <td>42.000000</td>\n",
       "      <td>50.000000</td>\n",
       "      <td>2.108000e+03</td>\n",
       "      <td>2.929000e+03</td>\n",
       "      <td>1.239111e+04</td>\n",
       "      <td>9.000000</td>\n",
       "      <td>9.000000</td>\n",
       "      <td>3.000000</td>\n",
       "      <td>32.000000</td>\n",
       "      <td>2015.000000</td>\n",
       "      <td>5659.000000</td>\n",
       "    </tr>\n",
       "    <tr>\n",
       "      <th>max</th>\n",
       "      <td>210.000000</td>\n",
       "      <td>49.000000</td>\n",
       "      <td>51.000000</td>\n",
       "      <td>1.000000e+08</td>\n",
       "      <td>2.033899e+07</td>\n",
       "      <td>219382.000000</td>\n",
       "      <td>50.000000</td>\n",
       "      <td>2.033899e+07</td>\n",
       "      <td>2.033899e+07</td>\n",
       "      <td>1.663614e+08</td>\n",
       "      <td>12.000000</td>\n",
       "      <td>12.000000</td>\n",
       "      <td>6.000000</td>\n",
       "      <td>91.000000</td>\n",
       "      <td>2018.000000</td>\n",
       "      <td>10775.000000</td>\n",
       "    </tr>\n",
       "  </tbody>\n",
       "</table>\n",
       "</div>"
      ],
      "text/plain": [
       "            category  main_category       currency          goal  \\\n",
       "count  375855.000000  375855.000000  375855.000000  3.758550e+05   \n",
       "mean      132.781833      26.595474      43.721326  4.887546e+04   \n",
       "std        45.088332      13.459365      14.543028  1.176606e+06   \n",
       "min        52.000000       3.000000       2.000000  1.000000e-02   \n",
       "30%       104.000000      20.000000      51.000000  2.500000e+03   \n",
       "50%       139.000000      21.000000      51.000000  5.100000e+03   \n",
       "70%       165.000000      35.000000      51.000000  1.250000e+04   \n",
       "max       210.000000      49.000000      51.000000  1.000000e+08   \n",
       "\n",
       "            pledged        backers        country   usd pledged  \\\n",
       "count  3.758550e+05  375855.000000  375855.000000  3.758550e+05   \n",
       "mean   9.687611e+03     105.898839      42.864804  7.072522e+03   \n",
       "std    9.588738e+04     909.960752      14.309311  7.861419e+04   \n",
       "min    0.000000e+00       0.000000       0.000000  0.000000e+00   \n",
       "30%    7.000000e+01       3.000000      50.000000  4.000000e+01   \n",
       "50%    6.250000e+02      12.000000      50.000000  4.000000e+02   \n",
       "70%    2.942000e+03      42.000000      50.000000  2.108000e+03   \n",
       "max    2.033899e+07  219382.000000      50.000000  2.033899e+07   \n",
       "\n",
       "       usd_pledged_real  usd_goal_real          month  month_deadline  \\\n",
       "count      3.758550e+05   3.758550e+05  375855.000000   375855.000000   \n",
       "mean       9.082847e+03   4.532795e+04       6.425505        6.761929   \n",
       "std        9.127160e+04   1.145876e+06       3.310168        3.320284   \n",
       "min        0.000000e+00   1.000000e-02       1.000000        1.000000   \n",
       "30%        7.000000e+01   2.500000e+03       4.000000        5.000000   \n",
       "50%        6.276000e+02   5.480040e+03       6.000000        7.000000   \n",
       "70%        2.929000e+03   1.239111e+04       9.000000        9.000000   \n",
       "max        2.033899e+07   1.663614e+08      12.000000       12.000000   \n",
       "\n",
       "       launch_day_of_week       duration           year          count  \n",
       "count       375855.000000  375855.000000  375855.000000  375855.000000  \n",
       "mean             2.421998      33.161703    2014.227838    4835.965085  \n",
       "std              1.764473      12.781795       1.915768    1902.250758  \n",
       "min              0.000000       0.000000    2009.000000       2.000000  \n",
       "30%              1.000000      29.000000    2013.000000    3962.000000  \n",
       "50%              2.000000      29.000000    2014.000000    4463.000000  \n",
       "70%              3.000000      32.000000    2015.000000    5659.000000  \n",
       "max              6.000000      91.000000    2018.000000   10775.000000  "
      ]
     },
     "execution_count": 17,
     "metadata": {},
     "output_type": "execute_result"
    }
   ],
   "source": [
    "data.describe(percentiles=[0.3,0.7])"
   ]
  },
  {
   "cell_type": "code",
   "execution_count": 18,
   "metadata": {},
   "outputs": [
    {
     "data": {
      "text/html": [
       "<div>\n",
       "<style scoped>\n",
       "    .dataframe tbody tr th:only-of-type {\n",
       "        vertical-align: middle;\n",
       "    }\n",
       "\n",
       "    .dataframe tbody tr th {\n",
       "        vertical-align: top;\n",
       "    }\n",
       "\n",
       "    .dataframe thead th {\n",
       "        text-align: right;\n",
       "    }\n",
       "</style>\n",
       "<table border=\"1\" class=\"dataframe\">\n",
       "  <thead>\n",
       "    <tr style=\"text-align: right;\">\n",
       "      <th></th>\n",
       "      <th>category</th>\n",
       "      <th>main_category</th>\n",
       "      <th>currency</th>\n",
       "      <th>goal</th>\n",
       "      <th>pledged</th>\n",
       "      <th>state</th>\n",
       "      <th>backers</th>\n",
       "      <th>country</th>\n",
       "      <th>usd pledged</th>\n",
       "      <th>usd_pledged_real</th>\n",
       "      <th>usd_goal_real</th>\n",
       "      <th>month</th>\n",
       "      <th>month_deadline</th>\n",
       "      <th>launch_day_of_week</th>\n",
       "      <th>duration</th>\n",
       "      <th>year</th>\n",
       "      <th>count</th>\n",
       "    </tr>\n",
       "  </thead>\n",
       "  <tbody>\n",
       "    <tr>\n",
       "      <th>category</th>\n",
       "      <td>1.000000</td>\n",
       "      <td>0.157745</td>\n",
       "      <td>-0.012241</td>\n",
       "      <td>0.003316</td>\n",
       "      <td>0.028928</td>\n",
       "      <td>0.022525</td>\n",
       "      <td>0.041134</td>\n",
       "      <td>-0.012489</td>\n",
       "      <td>0.025946</td>\n",
       "      <td>0.029428</td>\n",
       "      <td>0.002602</td>\n",
       "      <td>-0.001640</td>\n",
       "      <td>-0.005785</td>\n",
       "      <td>-0.004688</td>\n",
       "      <td>-0.002725</td>\n",
       "      <td>-0.039151</td>\n",
       "      <td>-0.041853</td>\n",
       "    </tr>\n",
       "    <tr>\n",
       "      <th>main_category</th>\n",
       "      <td>0.157745</td>\n",
       "      <td>1.000000</td>\n",
       "      <td>-0.016446</td>\n",
       "      <td>0.003344</td>\n",
       "      <td>0.002720</td>\n",
       "      <td>-0.033624</td>\n",
       "      <td>-0.005700</td>\n",
       "      <td>-0.016746</td>\n",
       "      <td>0.003370</td>\n",
       "      <td>0.003672</td>\n",
       "      <td>0.001594</td>\n",
       "      <td>0.000854</td>\n",
       "      <td>-0.005377</td>\n",
       "      <td>0.001444</td>\n",
       "      <td>0.036912</td>\n",
       "      <td>-0.009984</td>\n",
       "      <td>0.004988</td>\n",
       "    </tr>\n",
       "    <tr>\n",
       "      <th>currency</th>\n",
       "      <td>-0.012241</td>\n",
       "      <td>-0.016446</td>\n",
       "      <td>1.000000</td>\n",
       "      <td>-0.005467</td>\n",
       "      <td>0.005864</td>\n",
       "      <td>0.067147</td>\n",
       "      <td>0.012154</td>\n",
       "      <td>0.979930</td>\n",
       "      <td>0.014107</td>\n",
       "      <td>0.010847</td>\n",
       "      <td>-0.003873</td>\n",
       "      <td>-0.028363</td>\n",
       "      <td>-0.022718</td>\n",
       "      <td>0.004535</td>\n",
       "      <td>0.026527</td>\n",
       "      <td>-0.275799</td>\n",
       "      <td>-0.158487</td>\n",
       "    </tr>\n",
       "    <tr>\n",
       "      <th>goal</th>\n",
       "      <td>0.003316</td>\n",
       "      <td>0.003344</td>\n",
       "      <td>-0.005467</td>\n",
       "      <td>1.000000</td>\n",
       "      <td>0.007339</td>\n",
       "      <td>-0.024484</td>\n",
       "      <td>0.004076</td>\n",
       "      <td>-0.004920</td>\n",
       "      <td>0.005596</td>\n",
       "      <td>0.005172</td>\n",
       "      <td>0.941677</td>\n",
       "      <td>0.000953</td>\n",
       "      <td>0.000298</td>\n",
       "      <td>-0.002276</td>\n",
       "      <td>0.023182</td>\n",
       "      <td>0.015802</td>\n",
       "      <td>0.012781</td>\n",
       "    </tr>\n",
       "    <tr>\n",
       "      <th>pledged</th>\n",
       "      <td>0.028928</td>\n",
       "      <td>0.002720</td>\n",
       "      <td>0.005864</td>\n",
       "      <td>0.007339</td>\n",
       "      <td>1.000000</td>\n",
       "      <td>0.111849</td>\n",
       "      <td>0.717427</td>\n",
       "      <td>0.005672</td>\n",
       "      <td>0.856305</td>\n",
       "      <td>0.953369</td>\n",
       "      <td>0.005099</td>\n",
       "      <td>0.002461</td>\n",
       "      <td>0.005791</td>\n",
       "      <td>-0.025551</td>\n",
       "      <td>0.006499</td>\n",
       "      <td>0.029876</td>\n",
       "      <td>0.002260</td>\n",
       "    </tr>\n",
       "    <tr>\n",
       "      <th>state</th>\n",
       "      <td>0.022525</td>\n",
       "      <td>-0.033624</td>\n",
       "      <td>0.067147</td>\n",
       "      <td>-0.024484</td>\n",
       "      <td>0.111849</td>\n",
       "      <td>1.000000</td>\n",
       "      <td>0.129229</td>\n",
       "      <td>0.066113</td>\n",
       "      <td>0.097319</td>\n",
       "      <td>0.110785</td>\n",
       "      <td>-0.023246</td>\n",
       "      <td>-0.011573</td>\n",
       "      <td>-0.002458</td>\n",
       "      <td>-0.018806</td>\n",
       "      <td>-0.116745</td>\n",
       "      <td>-0.085862</td>\n",
       "      <td>-0.130738</td>\n",
       "    </tr>\n",
       "    <tr>\n",
       "      <th>backers</th>\n",
       "      <td>0.041134</td>\n",
       "      <td>-0.005700</td>\n",
       "      <td>0.012154</td>\n",
       "      <td>0.004076</td>\n",
       "      <td>0.717427</td>\n",
       "      <td>0.129229</td>\n",
       "      <td>1.000000</td>\n",
       "      <td>0.012082</td>\n",
       "      <td>0.697003</td>\n",
       "      <td>0.752489</td>\n",
       "      <td>0.004584</td>\n",
       "      <td>-0.002282</td>\n",
       "      <td>0.003404</td>\n",
       "      <td>-0.028077</td>\n",
       "      <td>-0.001488</td>\n",
       "      <td>0.016966</td>\n",
       "      <td>-0.002120</td>\n",
       "    </tr>\n",
       "    <tr>\n",
       "      <th>country</th>\n",
       "      <td>-0.012489</td>\n",
       "      <td>-0.016746</td>\n",
       "      <td>0.979930</td>\n",
       "      <td>-0.004920</td>\n",
       "      <td>0.005672</td>\n",
       "      <td>0.066113</td>\n",
       "      <td>0.012082</td>\n",
       "      <td>1.000000</td>\n",
       "      <td>0.013859</td>\n",
       "      <td>0.010902</td>\n",
       "      <td>-0.003072</td>\n",
       "      <td>-0.026803</td>\n",
       "      <td>-0.021430</td>\n",
       "      <td>0.003597</td>\n",
       "      <td>0.028515</td>\n",
       "      <td>-0.273136</td>\n",
       "      <td>-0.158088</td>\n",
       "    </tr>\n",
       "    <tr>\n",
       "      <th>usd pledged</th>\n",
       "      <td>0.025946</td>\n",
       "      <td>0.003370</td>\n",
       "      <td>0.014107</td>\n",
       "      <td>0.005596</td>\n",
       "      <td>0.856305</td>\n",
       "      <td>0.097319</td>\n",
       "      <td>0.697003</td>\n",
       "      <td>0.013859</td>\n",
       "      <td>1.000000</td>\n",
       "      <td>0.905955</td>\n",
       "      <td>0.006240</td>\n",
       "      <td>-0.005888</td>\n",
       "      <td>-0.003462</td>\n",
       "      <td>-0.020130</td>\n",
       "      <td>0.006212</td>\n",
       "      <td>-0.006257</td>\n",
       "      <td>0.008754</td>\n",
       "    </tr>\n",
       "    <tr>\n",
       "      <th>usd_pledged_real</th>\n",
       "      <td>0.029428</td>\n",
       "      <td>0.003672</td>\n",
       "      <td>0.010847</td>\n",
       "      <td>0.005172</td>\n",
       "      <td>0.953369</td>\n",
       "      <td>0.110785</td>\n",
       "      <td>0.752489</td>\n",
       "      <td>0.010902</td>\n",
       "      <td>0.905955</td>\n",
       "      <td>1.000000</td>\n",
       "      <td>0.005669</td>\n",
       "      <td>0.000119</td>\n",
       "      <td>0.004185</td>\n",
       "      <td>-0.025894</td>\n",
       "      <td>0.007061</td>\n",
       "      <td>0.022517</td>\n",
       "      <td>0.002870</td>\n",
       "    </tr>\n",
       "    <tr>\n",
       "      <th>usd_goal_real</th>\n",
       "      <td>0.002602</td>\n",
       "      <td>0.001594</td>\n",
       "      <td>-0.003873</td>\n",
       "      <td>0.941677</td>\n",
       "      <td>0.005099</td>\n",
       "      <td>-0.023246</td>\n",
       "      <td>0.004584</td>\n",
       "      <td>-0.003072</td>\n",
       "      <td>0.006240</td>\n",
       "      <td>0.005669</td>\n",
       "      <td>1.000000</td>\n",
       "      <td>0.001302</td>\n",
       "      <td>0.000604</td>\n",
       "      <td>-0.002573</td>\n",
       "      <td>0.022508</td>\n",
       "      <td>0.012384</td>\n",
       "      <td>0.013070</td>\n",
       "    </tr>\n",
       "    <tr>\n",
       "      <th>month</th>\n",
       "      <td>-0.001640</td>\n",
       "      <td>0.000854</td>\n",
       "      <td>-0.028363</td>\n",
       "      <td>0.000953</td>\n",
       "      <td>0.002461</td>\n",
       "      <td>-0.011573</td>\n",
       "      <td>-0.002282</td>\n",
       "      <td>-0.026803</td>\n",
       "      <td>-0.005888</td>\n",
       "      <td>0.000119</td>\n",
       "      <td>0.001302</td>\n",
       "      <td>1.000000</td>\n",
       "      <td>0.608105</td>\n",
       "      <td>-0.018335</td>\n",
       "      <td>-0.015838</td>\n",
       "      <td>-0.091683</td>\n",
       "      <td>-0.101656</td>\n",
       "    </tr>\n",
       "    <tr>\n",
       "      <th>month_deadline</th>\n",
       "      <td>-0.005785</td>\n",
       "      <td>-0.005377</td>\n",
       "      <td>-0.022718</td>\n",
       "      <td>0.000298</td>\n",
       "      <td>0.005791</td>\n",
       "      <td>-0.002458</td>\n",
       "      <td>0.003404</td>\n",
       "      <td>-0.021430</td>\n",
       "      <td>-0.003462</td>\n",
       "      <td>0.004185</td>\n",
       "      <td>0.000604</td>\n",
       "      <td>0.608105</td>\n",
       "      <td>1.000000</td>\n",
       "      <td>-0.020050</td>\n",
       "      <td>-0.025889</td>\n",
       "      <td>-0.018246</td>\n",
       "      <td>0.065187</td>\n",
       "    </tr>\n",
       "    <tr>\n",
       "      <th>launch_day_of_week</th>\n",
       "      <td>-0.004688</td>\n",
       "      <td>0.001444</td>\n",
       "      <td>0.004535</td>\n",
       "      <td>-0.002276</td>\n",
       "      <td>-0.025551</td>\n",
       "      <td>-0.018806</td>\n",
       "      <td>-0.028077</td>\n",
       "      <td>0.003597</td>\n",
       "      <td>-0.020130</td>\n",
       "      <td>-0.025894</td>\n",
       "      <td>-0.002573</td>\n",
       "      <td>-0.018335</td>\n",
       "      <td>-0.020050</td>\n",
       "      <td>1.000000</td>\n",
       "      <td>0.019880</td>\n",
       "      <td>-0.034264</td>\n",
       "      <td>-0.036010</td>\n",
       "    </tr>\n",
       "    <tr>\n",
       "      <th>duration</th>\n",
       "      <td>-0.002725</td>\n",
       "      <td>0.036912</td>\n",
       "      <td>0.026527</td>\n",
       "      <td>0.023182</td>\n",
       "      <td>0.006499</td>\n",
       "      <td>-0.116745</td>\n",
       "      <td>-0.001488</td>\n",
       "      <td>0.028515</td>\n",
       "      <td>0.006212</td>\n",
       "      <td>0.007061</td>\n",
       "      <td>0.022508</td>\n",
       "      <td>-0.015838</td>\n",
       "      <td>-0.025889</td>\n",
       "      <td>0.019880</td>\n",
       "      <td>1.000000</td>\n",
       "      <td>-0.168715</td>\n",
       "      <td>-0.136566</td>\n",
       "    </tr>\n",
       "    <tr>\n",
       "      <th>year</th>\n",
       "      <td>-0.039151</td>\n",
       "      <td>-0.009984</td>\n",
       "      <td>-0.275799</td>\n",
       "      <td>0.015802</td>\n",
       "      <td>0.029876</td>\n",
       "      <td>-0.085862</td>\n",
       "      <td>0.016966</td>\n",
       "      <td>-0.273136</td>\n",
       "      <td>-0.006257</td>\n",
       "      <td>0.022517</td>\n",
       "      <td>0.012384</td>\n",
       "      <td>-0.091683</td>\n",
       "      <td>-0.018246</td>\n",
       "      <td>-0.034264</td>\n",
       "      <td>-0.168715</td>\n",
       "      <td>1.000000</td>\n",
       "      <td>0.461810</td>\n",
       "    </tr>\n",
       "    <tr>\n",
       "      <th>count</th>\n",
       "      <td>-0.041853</td>\n",
       "      <td>0.004988</td>\n",
       "      <td>-0.158487</td>\n",
       "      <td>0.012781</td>\n",
       "      <td>0.002260</td>\n",
       "      <td>-0.130738</td>\n",
       "      <td>-0.002120</td>\n",
       "      <td>-0.158088</td>\n",
       "      <td>0.008754</td>\n",
       "      <td>0.002870</td>\n",
       "      <td>0.013070</td>\n",
       "      <td>-0.101656</td>\n",
       "      <td>0.065187</td>\n",
       "      <td>-0.036010</td>\n",
       "      <td>-0.136566</td>\n",
       "      <td>0.461810</td>\n",
       "      <td>1.000000</td>\n",
       "    </tr>\n",
       "  </tbody>\n",
       "</table>\n",
       "</div>"
      ],
      "text/plain": [
       "                    category  main_category  currency      goal   pledged  \\\n",
       "category            1.000000       0.157745 -0.012241  0.003316  0.028928   \n",
       "main_category       0.157745       1.000000 -0.016446  0.003344  0.002720   \n",
       "currency           -0.012241      -0.016446  1.000000 -0.005467  0.005864   \n",
       "goal                0.003316       0.003344 -0.005467  1.000000  0.007339   \n",
       "pledged             0.028928       0.002720  0.005864  0.007339  1.000000   \n",
       "state               0.022525      -0.033624  0.067147 -0.024484  0.111849   \n",
       "backers             0.041134      -0.005700  0.012154  0.004076  0.717427   \n",
       "country            -0.012489      -0.016746  0.979930 -0.004920  0.005672   \n",
       "usd pledged         0.025946       0.003370  0.014107  0.005596  0.856305   \n",
       "usd_pledged_real    0.029428       0.003672  0.010847  0.005172  0.953369   \n",
       "usd_goal_real       0.002602       0.001594 -0.003873  0.941677  0.005099   \n",
       "month              -0.001640       0.000854 -0.028363  0.000953  0.002461   \n",
       "month_deadline     -0.005785      -0.005377 -0.022718  0.000298  0.005791   \n",
       "launch_day_of_week -0.004688       0.001444  0.004535 -0.002276 -0.025551   \n",
       "duration           -0.002725       0.036912  0.026527  0.023182  0.006499   \n",
       "year               -0.039151      -0.009984 -0.275799  0.015802  0.029876   \n",
       "count              -0.041853       0.004988 -0.158487  0.012781  0.002260   \n",
       "\n",
       "                       state   backers   country  usd pledged  \\\n",
       "category            0.022525  0.041134 -0.012489     0.025946   \n",
       "main_category      -0.033624 -0.005700 -0.016746     0.003370   \n",
       "currency            0.067147  0.012154  0.979930     0.014107   \n",
       "goal               -0.024484  0.004076 -0.004920     0.005596   \n",
       "pledged             0.111849  0.717427  0.005672     0.856305   \n",
       "state               1.000000  0.129229  0.066113     0.097319   \n",
       "backers             0.129229  1.000000  0.012082     0.697003   \n",
       "country             0.066113  0.012082  1.000000     0.013859   \n",
       "usd pledged         0.097319  0.697003  0.013859     1.000000   \n",
       "usd_pledged_real    0.110785  0.752489  0.010902     0.905955   \n",
       "usd_goal_real      -0.023246  0.004584 -0.003072     0.006240   \n",
       "month              -0.011573 -0.002282 -0.026803    -0.005888   \n",
       "month_deadline     -0.002458  0.003404 -0.021430    -0.003462   \n",
       "launch_day_of_week -0.018806 -0.028077  0.003597    -0.020130   \n",
       "duration           -0.116745 -0.001488  0.028515     0.006212   \n",
       "year               -0.085862  0.016966 -0.273136    -0.006257   \n",
       "count              -0.130738 -0.002120 -0.158088     0.008754   \n",
       "\n",
       "                    usd_pledged_real  usd_goal_real     month  month_deadline  \\\n",
       "category                    0.029428       0.002602 -0.001640       -0.005785   \n",
       "main_category               0.003672       0.001594  0.000854       -0.005377   \n",
       "currency                    0.010847      -0.003873 -0.028363       -0.022718   \n",
       "goal                        0.005172       0.941677  0.000953        0.000298   \n",
       "pledged                     0.953369       0.005099  0.002461        0.005791   \n",
       "state                       0.110785      -0.023246 -0.011573       -0.002458   \n",
       "backers                     0.752489       0.004584 -0.002282        0.003404   \n",
       "country                     0.010902      -0.003072 -0.026803       -0.021430   \n",
       "usd pledged                 0.905955       0.006240 -0.005888       -0.003462   \n",
       "usd_pledged_real            1.000000       0.005669  0.000119        0.004185   \n",
       "usd_goal_real               0.005669       1.000000  0.001302        0.000604   \n",
       "month                       0.000119       0.001302  1.000000        0.608105   \n",
       "month_deadline              0.004185       0.000604  0.608105        1.000000   \n",
       "launch_day_of_week         -0.025894      -0.002573 -0.018335       -0.020050   \n",
       "duration                    0.007061       0.022508 -0.015838       -0.025889   \n",
       "year                        0.022517       0.012384 -0.091683       -0.018246   \n",
       "count                       0.002870       0.013070 -0.101656        0.065187   \n",
       "\n",
       "                    launch_day_of_week  duration      year     count  \n",
       "category                     -0.004688 -0.002725 -0.039151 -0.041853  \n",
       "main_category                 0.001444  0.036912 -0.009984  0.004988  \n",
       "currency                      0.004535  0.026527 -0.275799 -0.158487  \n",
       "goal                         -0.002276  0.023182  0.015802  0.012781  \n",
       "pledged                      -0.025551  0.006499  0.029876  0.002260  \n",
       "state                        -0.018806 -0.116745 -0.085862 -0.130738  \n",
       "backers                      -0.028077 -0.001488  0.016966 -0.002120  \n",
       "country                       0.003597  0.028515 -0.273136 -0.158088  \n",
       "usd pledged                  -0.020130  0.006212 -0.006257  0.008754  \n",
       "usd_pledged_real             -0.025894  0.007061  0.022517  0.002870  \n",
       "usd_goal_real                -0.002573  0.022508  0.012384  0.013070  \n",
       "month                        -0.018335 -0.015838 -0.091683 -0.101656  \n",
       "month_deadline               -0.020050 -0.025889 -0.018246  0.065187  \n",
       "launch_day_of_week            1.000000  0.019880 -0.034264 -0.036010  \n",
       "duration                      0.019880  1.000000 -0.168715 -0.136566  \n",
       "year                         -0.034264 -0.168715  1.000000  0.461810  \n",
       "count                        -0.036010 -0.136566  0.461810  1.000000  "
      ]
     },
     "execution_count": 18,
     "metadata": {},
     "output_type": "execute_result"
    }
   ],
   "source": [
    "data.corr()"
   ]
  },
  {
   "cell_type": "code",
   "execution_count": 19,
   "metadata": {},
   "outputs": [
    {
     "data": {
      "text/plain": [
       "<matplotlib.axes._subplots.AxesSubplot at 0x20a0ec08d68>"
      ]
     },
     "execution_count": 19,
     "metadata": {},
     "output_type": "execute_result"
    },
    {
     "data": {
      "image/png": "[encoded data removed]",
      "text/plain": [
       "<Figure size 432x288 with 2 Axes>"
      ]
     },
     "metadata": {},
     "output_type": "display_data"
    }
   ],
   "source": [
    "sns.heatmap(data.corr(), \n",
    "        xticklabels=data.corr().columns,\n",
    "        yticklabels=data.corr().columns)"
   ]
  },
  {
   "cell_type": "markdown",
   "metadata": {},
   "source": [
    "Next, we explored the distribution of campaigns by their goal amount. The most successful project to ever be created on Kickstarter was the Pebble watch. This successful product hit its goal within the first 17 minutes of being launched. The campaign still continued to grow in the amount of money, even though it had hit its goal. Therefore, we explored the relationship between having a small goal and the success of a campaign. These two visualizations below breakdown the success number and failed number at each goal amount. Note that because of the large distribution of goals, the graph was separated into the first section of goals from 0 to 100,000 and a second section of 100,000 to 1,000,000. "
   ]
  },
  {
   "cell_type": "code",
   "execution_count": 20,
   "metadata": {},
   "outputs": [],
   "source": [
    "# Separate data into two different sets based on whether or not the campaign was successful\n",
    "success = data.loc[data['state'] == True]\n",
    "fail = data.loc[data['state'] == False]"
   ]
  },
  {
   "cell_type": "code",
   "execution_count": 21,
   "metadata": {},
   "outputs": [
    {
     "data": {
      "text/plain": [
       "Text(0.5,1,'Normalized Distribution of Goal Amounts for Successful and Failed Projects (0-100000 dollars)')"
      ]
     },
     "execution_count": 21,
     "metadata": {},
     "output_type": "execute_result"
    },
    {
     "data": {
      "image/png": "[encoded data removed]",
      "text/plain": [
       "<Figure size 432x288 with 1 Axes>"
      ]
     },
     "metadata": {},
     "output_type": "display_data"
    }
   ],
   "source": [
    "plt.hist([success.goal, fail.goal], range=[0, 100000], label=['success', 'fail'], density=True)\n",
    "plt.legend()\n",
    "plt.title('Normalized Distribution of Goal Amounts for Successful and Failed Projects (0-100000 dollars)')"
   ]
  },
  {
   "cell_type": "code",
   "execution_count": 22,
   "metadata": {},
   "outputs": [
    {
     "data": {
      "text/plain": [
       "Text(0.5,1,'Normalized Distribution of Goal Amounts for Successful and Failed Projects (100000-1000000 dollars)')"
      ]
     },
     "execution_count": 22,
     "metadata": {},
     "output_type": "execute_result"
    },
    {
     "data": {
      "image/png": "[encoded data removed]",
      "text/plain": [
       "<Figure size 432x288 with 1 Axes>"
      ]
     },
     "metadata": {},
     "output_type": "display_data"
    }
   ],
   "source": [
    "plt.hist([success.goal, fail.goal], range=[100000, 1000000], label=['success', 'fail'], density=True)\n",
    "plt.legend()\n",
    "plt.title('Normalized Distribution of Goal Amounts for Successful and Failed Projects (100000-1000000 dollars)')"
   ]
  },
  {
   "cell_type": "code",
   "execution_count": 23,
   "metadata": {},
   "outputs": [
    {
     "data": {
      "text/plain": [
       "Text(0.5,1,'Normalized Distribution of Campaign Length for Successful and Failed Projects')"
      ]
     },
     "execution_count": 23,
     "metadata": {},
     "output_type": "execute_result"
    },
    {
     "data": {
      "image/png": "[encoded data removed]",
      "text/plain": [
       "<Figure size 432x288 with 1 Axes>"
      ]
     },
     "metadata": {},
     "output_type": "display_data"
    }
   ],
   "source": [
    "plt.hist([success.duration, fail.duration], label=['success', 'fail'], density=True)\n",
    "plt.legend()\n",
    "plt.title('Normalized Distribution of Campaign Length for Successful and Failed Projects')"
   ]
  },
  {
   "cell_type": "markdown",
   "metadata": {},
   "source": [
    "The time at which the campaign was released was also explored. First, the month at which the project was launched was compared with the number of campaigns that were successful and those that were not successful in the end of their campaign. When a campaign is first launched, it generally makes a lot of money in the beginning and when it is about to close. Therefore, the launch month was compared with these success and fail project counts. In addition, the day of the week that a project was launched and the success or failure state was compared. The scale for the day of the week corresponds to 0 = Monday and so on. "
   ]
  },
  {
   "cell_type": "code",
   "execution_count": 24,
   "metadata": {},
   "outputs": [
    {
     "data": {
      "text/plain": [
       "Text(0.5,1,'Normalized Distribution of the Month the Campaign was launched for Successful and Failed Projects')"
      ]
     },
     "execution_count": 24,
     "metadata": {},
     "output_type": "execute_result"
    },
    {
     "data": {
      "image/png": "[encoded data removed]",
      "text/plain": [
       "<Figure size 432x288 with 1 Axes>"
      ]
     },
     "metadata": {},
     "output_type": "display_data"
    }
   ],
   "source": [
    "plt.hist([success.month, fail.month], bins=12, density=True, label=['success', 'fail'])\n",
    "plt.legend()\n",
    "plt.title('Normalized Distribution of the Month the Campaign was launched for Successful and Failed Projects')"
   ]
  },
  {
   "cell_type": "code",
   "execution_count": 25,
   "metadata": {},
   "outputs": [
    {
     "data": {
      "text/plain": [
       "<matplotlib.legend.Legend at 0x20a0ebc7390>"
      ]
     },
     "execution_count": 25,
     "metadata": {},
     "output_type": "execute_result"
    },
    {
     "data": {
      "image/png": "[encoded data removed]",
      "text/plain": [
       "<Figure size 432x288 with 1 Axes>"
      ]
     },
     "metadata": {},
     "output_type": "display_data"
    }
   ],
   "source": [
    "plt.hist([success.launch_day_of_week, fail.launch_day_of_week], bins=7, density=True, label=['success', 'fail'])\n",
    "plt.legend()"
   ]
  },
  {
   "cell_type": "markdown",
   "metadata": {},
   "source": [
    "## Statistical Modeling"
   ]
  },
  {
   "cell_type": "code",
   "execution_count": 26,
   "metadata": {},
   "outputs": [],
   "source": [
    "# Statistical Modeling code here: \n",
    "import pandas as pd\n",
    "import statsmodels.formula.api as smf\n",
    "import matplotlib.pyplot as plt\n",
    "import numpy as np"
   ]
  },
  {
   "cell_type": "code",
   "execution_count": 27,
   "metadata": {},
   "outputs": [],
   "source": [
    "%store -r data\n",
    "%store -r le\n",
    "data.state = data.state.astype(int)\n"
   ]
  },
  {
   "cell_type": "markdown",
   "metadata": {},
   "source": [
    "### Multiple Regression"
   ]
  },
  {
   "cell_type": "code",
   "execution_count": 28,
   "metadata": {},
   "outputs": [
    {
     "data": {
      "text/html": [
       "<table class=\"simpletable\">\n",
       "<caption>OLS Regression Results</caption>\n",
       "<tr>\n",
       "  <th>Dep. Variable:</th>          <td>state</td>      <th>  R-squared:         </th>  <td>   0.024</td>  \n",
       "</tr>\n",
       "<tr>\n",
       "  <th>Model:</th>                   <td>OLS</td>       <th>  Adj. R-squared:    </th>  <td>   0.024</td>  \n",
       "</tr>\n",
       "<tr>\n",
       "  <th>Method:</th>             <td>Least Squares</td>  <th>  F-statistic:       </th>  <td>   1529.</td>  \n",
       "</tr>\n",
       "<tr>\n",
       "  <th>Date:</th>             <td>Tue, 04 Dec 2018</td> <th>  Prob (F-statistic):</th>   <td>  0.00</td>   \n",
       "</tr>\n",
       "<tr>\n",
       "  <th>Time:</th>                 <td>18:47:19</td>     <th>  Log-Likelihood:    </th> <td>-2.5208e+05</td>\n",
       "</tr>\n",
       "<tr>\n",
       "  <th>No. Observations:</th>      <td>375855</td>      <th>  AIC:               </th>  <td>5.042e+05</td> \n",
       "</tr>\n",
       "<tr>\n",
       "  <th>Df Residuals:</th>          <td>375848</td>      <th>  BIC:               </th>  <td>5.043e+05</td> \n",
       "</tr>\n",
       "<tr>\n",
       "  <th>Df Model:</th>              <td>     6</td>      <th>                     </th>      <td> </td>     \n",
       "</tr>\n",
       "<tr>\n",
       "  <th>Covariance Type:</th>      <td>nonrobust</td>    <th>                     </th>      <td> </td>     \n",
       "</tr>\n",
       "</table>\n",
       "<table class=\"simpletable\">\n",
       "<tr>\n",
       "        <td></td>           <th>coef</th>     <th>std err</th>      <th>t</th>      <th>P>|t|</th>  <th>[0.025</th>    <th>0.975]</th>  \n",
       "</tr>\n",
       "<tr>\n",
       "  <th>Intercept</th>     <td>    0.2575</td> <td>    0.004</td> <td>   72.185</td> <td> 0.000</td> <td>    0.250</td> <td>    0.264</td>\n",
       "</tr>\n",
       "<tr>\n",
       "  <th>goal</th>          <td>-1.011e-08</td> <td> 6.56e-10</td> <td>  -15.404</td> <td> 0.000</td> <td>-1.14e-08</td> <td>-8.82e-09</td>\n",
       "</tr>\n",
       "<tr>\n",
       "  <th>pledged</th>       <td> 2.027e-07</td> <td> 1.16e-08</td> <td>   17.542</td> <td> 0.000</td> <td>  1.8e-07</td> <td> 2.25e-07</td>\n",
       "</tr>\n",
       "<tr>\n",
       "  <th>category</th>      <td>    0.0003</td> <td> 1.74e-05</td> <td>   14.592</td> <td> 0.000</td> <td>    0.000</td> <td>    0.000</td>\n",
       "</tr>\n",
       "<tr>\n",
       "  <th>main_category</th> <td>   -0.0013</td> <td> 5.81e-05</td> <td>  -21.915</td> <td> 0.000</td> <td>   -0.001</td> <td>   -0.001</td>\n",
       "</tr>\n",
       "<tr>\n",
       "  <th>backers</th>       <td> 5.171e-05</td> <td> 1.22e-06</td> <td>   42.444</td> <td> 0.000</td> <td> 4.93e-05</td> <td> 5.41e-05</td>\n",
       "</tr>\n",
       "<tr>\n",
       "  <th>country</th>       <td>    0.0022</td> <td>  5.4e-05</td> <td>   39.870</td> <td> 0.000</td> <td>    0.002</td> <td>    0.002</td>\n",
       "</tr>\n",
       "</table>\n",
       "<table class=\"simpletable\">\n",
       "<tr>\n",
       "  <th>Omnibus:</th>       <td>15870.774</td> <th>  Durbin-Watson:     </th> <td>   1.953</td> \n",
       "</tr>\n",
       "<tr>\n",
       "  <th>Prob(Omnibus):</th>  <td> 0.000</td>   <th>  Jarque-Bera (JB):  </th> <td>19191.574</td>\n",
       "</tr>\n",
       "<tr>\n",
       "  <th>Skew:</th>           <td> 0.474</td>   <th>  Prob(JB):          </th> <td>    0.00</td> \n",
       "</tr>\n",
       "<tr>\n",
       "  <th>Kurtosis:</th>       <td> 3.573</td>   <th>  Cond. No.          </th> <td>5.44e+06</td> \n",
       "</tr>\n",
       "</table><br/><br/>Warnings:<br/>[1] Standard Errors assume that the covariance matrix of the errors is correctly specified.<br/>[2] The condition number is large, 5.44e+06. This might indicate that there are<br/>strong multicollinearity or other numerical problems."
      ],
      "text/plain": [
       "<class 'statsmodels.iolib.summary.Summary'>\n",
       "\"\"\"\n",
       "                            OLS Regression Results                            \n",
       "==============================================================================\n",
       "Dep. Variable:                  state   R-squared:                       0.024\n",
       "Model:                            OLS   Adj. R-squared:                  0.024\n",
       "Method:                 Least Squares   F-statistic:                     1529.\n",
       "Date:                Tue, 04 Dec 2018   Prob (F-statistic):               0.00\n",
       "Time:                        18:47:19   Log-Likelihood:            -2.5208e+05\n",
       "No. Observations:              375855   AIC:                         5.042e+05\n",
       "Df Residuals:                  375848   BIC:                         5.043e+05\n",
       "Df Model:                           6                                         \n",
       "Covariance Type:            nonrobust                                         \n",
       "=================================================================================\n",
       "                    coef    std err          t      P>|t|      [0.025      0.975]\n",
       "---------------------------------------------------------------------------------\n",
       "Intercept         0.2575      0.004     72.185      0.000       0.250       0.264\n",
       "goal          -1.011e-08   6.56e-10    -15.404      0.000   -1.14e-08   -8.82e-09\n",
       "pledged        2.027e-07   1.16e-08     17.542      0.000     1.8e-07    2.25e-07\n",
       "category          0.0003   1.74e-05     14.592      0.000       0.000       0.000\n",
       "main_category    -0.0013   5.81e-05    -21.915      0.000      -0.001      -0.001\n",
       "backers        5.171e-05   1.22e-06     42.444      0.000    4.93e-05    5.41e-05\n",
       "country           0.0022    5.4e-05     39.870      0.000       0.002       0.002\n",
       "==============================================================================\n",
       "Omnibus:                    15870.774   Durbin-Watson:                   1.953\n",
       "Prob(Omnibus):                  0.000   Jarque-Bera (JB):            19191.574\n",
       "Skew:                           0.474   Prob(JB):                         0.00\n",
       "Kurtosis:                       3.573   Cond. No.                     5.44e+06\n",
       "==============================================================================\n",
       "\n",
       "Warnings:\n",
       "[1] Standard Errors assume that the covariance matrix of the errors is correctly specified.\n",
       "[2] The condition number is large, 5.44e+06. This might indicate that there are\n",
       "strong multicollinearity or other numerical problems.\n",
       "\"\"\""
      ]
     },
     "execution_count": 28,
     "metadata": {},
     "output_type": "execute_result"
    }
   ],
   "source": [
    "# Creates Model\n",
    "full_model = smf.ols(formula='state ~ goal + pledged + category + main_category + backers + country', data=data).fit()\n",
    "full_model.summary()"
   ]
  },
  {
   "cell_type": "code",
   "execution_count": 29,
   "metadata": {},
   "outputs": [],
   "source": [
    "# Make predictions\n",
    "data['mult_predictions'] = full_model.predict()\n",
    "data.loc[data[\"mult_predictions\"] >= 0.5,\"mult_predictions\"] = 1\n",
    "data.loc[data[\"mult_predictions\"] < 0.5,\"mult_predictions\"] = 0"
   ]
  },
  {
   "cell_type": "code",
   "execution_count": 30,
   "metadata": {},
   "outputs": [
    {
     "data": {
      "text/plain": [
       "<function matplotlib.pyplot.show(*args, **kw)>"
      ]
     },
     "execution_count": 30,
     "metadata": {},
     "output_type": "execute_result"
    },
    {
     "data": {
      "image/png": "[encoded data removed]",
      "text/plain": [
       "<Figure size 432x288 with 1 Axes>"
      ]
     },
     "metadata": {},
     "output_type": "display_data"
    }
   ],
   "source": [
    "# Visualize results\n",
    "real_success = len(data[data['state'] == 1])\n",
    "fake_success = len(data[data['mult_predictions'] == 1])\n",
    "real_failed = len(data[data['state'] == 0])\n",
    "fake_failed = len(data[data['mult_predictions'] == 0])\n",
    "\n",
    "x = ['Pass', 'Fail']\n",
    "real = [real_success, real_failed]\n",
    "fake = [fake_success, fake_failed]\n",
    "\n",
    "fig, ax = plt.subplots()\n",
    "bar_width = 0.35\n",
    "opacity = 0.4\n",
    "N = 2\n",
    "ind = np.arange(N)\n",
    "\n",
    "rects1 = ax.bar(ind, real, bar_width, alpha=opacity, color='b', label='Real Data')\n",
    "rects2 = ax.bar(ind + bar_width, fake, bar_width, alpha=opacity, color='r', label='Prediction Data')\n",
    "ax.set_xlabel('True or False')\n",
    "ax.set_ylabel('Total Count')\n",
    "ax.set_title('Which are True vs False')\n",
    "ax.set_xticks(ind + bar_width / 2)\n",
    "ax.set_xticklabels(('Success', 'Failed'))\n",
    "ax.legend()\n",
    "\n",
    "plt.show"
   ]
  },
  {
   "cell_type": "code",
   "execution_count": 31,
   "metadata": {},
   "outputs": [
    {
     "data": {
      "text/plain": [
       "0.650418379428237"
      ]
     },
     "execution_count": 31,
     "metadata": {},
     "output_type": "execute_result"
    }
   ],
   "source": [
    "# Percent of correct predictions\n",
    "len(data[data[\"mult_predictions\"]== data[\"state\"]]) / len(data[\"state\"])"
   ]
  },
  {
   "cell_type": "markdown",
   "metadata": {},
   "source": [
    "## Machine Learning"
   ]
  },
  {
   "cell_type": "markdown",
   "metadata": {},
   "source": [
    "Before we can do any actual machine learning, we have to first split our data into a test set, and a training set. Since our data set is particularly large, I chose to make the training set a little bit bigger because that will allow the model to have a better fit without worrying about possibility of over fitting. There's still a lot of data in the test set to validate."
   ]
  },
  {
   "cell_type": "code",
   "execution_count": 46,
   "metadata": {},
   "outputs": [],
   "source": [
    "feature = data[['category', 'main_category', 'currency', 'goal','duration', 'country', 'month', 'month_deadline', 'launch_day_of_week', 'count']]\n",
    "outcome = data[['state']]\n",
    "feature_name = data[[\"name\"]]"
   ]
  },
  {
   "cell_type": "markdown",
   "metadata": {},
   "source": [
    "We can this pretty easily by first selecting all the relevant features and put those into a data frame. Next, we can put the outcome of the data into it's own data frame as well. We can then split the data into a training set and a test set using the function below."
   ]
  },
  {
   "cell_type": "code",
   "execution_count": 47,
   "metadata": {},
   "outputs": [],
   "source": [
    "train_features_small, test_features, train_outcome_small, test_outcome = train_test_split(\n",
    "    feature,\n",
    "    outcome,\n",
    "    test_size = 0.3\n",
    ")"
   ]
  },
  {
   "cell_type": "markdown",
   "metadata": {},
   "source": [
    "### Random Forest"
   ]
  },
  {
   "cell_type": "markdown",
   "metadata": {},
   "source": [
    "We tried many different *many* different machine learning algorithms over the course of this study but none performed as well as Random Forest. Random Forest is fairly similar to a Decision Tree algorithm but *differs* in that a Random Forest builds *multiple* decision trees in order to get a more accurate prediction.\n",
    "\n",
    "When tuning the algorithm, we tried various parameters to see which would get us the most accurate model. After a while we found that the best parameters for our model were...\n",
    "\n",
    "Variance Threshold = .1\n",
    "SelectKBest = 10\n",
    "Random Forest Classifier N-estimators = 40"
   ]
  },
  {
   "cell_type": "code",
   "execution_count": 48,
   "metadata": {},
   "outputs": [],
   "source": [
    "from sklearn.ensemble import RandomForestClassifier\n",
    "rfc = RandomForestClassifier(max_features=\"auto\",max_depth=4, min_samples_split=2)\n",
    "pipe = make_pipeline(VarianceThreshold(.1),\n",
    "                     SelectKBest(k=10),\n",
    "                     rfc\n",
    "                     )\n",
    "\n",
    "params ={'randomforestclassifier__n_estimators':[40],\n",
    "        }\n",
    "\n",
    "grid_search_rf = GridSearchCV(pipe, params,\n",
    "                               cv = KFold(n_splits=10, shuffle=True),n_jobs = -1)"
   ]
  },
  {
   "cell_type": "markdown",
   "metadata": {},
   "source": [
    "After conducting the GridSearch, we then fit our model to the training data."
   ]
  },
  {
   "cell_type": "code",
   "execution_count": 49,
   "metadata": {},
   "outputs": [
    {
     "data": {
      "text/plain": [
       "GridSearchCV(cv=KFold(n_splits=10, random_state=None, shuffle=True),\n",
       "       error_score='raise',\n",
       "       estimator=Pipeline(memory=None,\n",
       "     steps=[('variancethreshold', VarianceThreshold(threshold=0.1)), ('selectkbest', SelectKBest(k=10, score_func=<function f_classif at 0x0000020A23C237B8>)), ('randomforestclassifier', RandomForestClassifier(bootstrap=True, class_weight=None, criterion='gini',\n",
       "            max_depth=4, max_features='aut...n_jobs=1,\n",
       "            oob_score=False, random_state=None, verbose=0,\n",
       "            warm_start=False))]),\n",
       "       fit_params=None, iid=True, n_jobs=-1,\n",
       "       param_grid={'randomforestclassifier__n_estimators': [40]},\n",
       "       pre_dispatch='2*n_jobs', refit=True, return_train_score='warn',\n",
       "       scoring=None, verbose=0)"
      ]
     },
     "execution_count": 49,
     "metadata": {},
     "output_type": "execute_result"
    }
   ],
   "source": [
    "grid_search_rf.fit(train_features_small,train_outcome_small)"
   ]
  },
  {
   "cell_type": "markdown",
   "metadata": {},
   "source": [
    "We then used this to predict based on our test set."
   ]
  },
  {
   "cell_type": "code",
   "execution_count": 51,
   "metadata": {},
   "outputs": [
    {
     "data": {
      "text/plain": [
       "0.6639765158704116"
      ]
     },
     "execution_count": 51,
     "metadata": {},
     "output_type": "execute_result"
    }
   ],
   "source": [
    "grid_search_rf.score(test_features, test_outcome)"
   ]
  },
  {
   "cell_type": "markdown",
   "metadata": {},
   "source": [
    "With an accuracy score of **66%**, we can see that our model does a pretty good job at predicting the success or failure of a kickstarter event. But it might be more interesting to see where the model *does* where it *doesn't*. \n",
    "\n",
    "First we can start by adding a column of our predictions and readding the actual outcome to the test set."
   ]
  },
  {
   "cell_type": "code",
   "execution_count": 52,
   "metadata": {},
   "outputs": [],
   "source": [
    "test_features['preds'] = grid_search_rf.predict(test_features)\n",
    "test_features['actual'] = test_outcome['state']"
   ]
  },
  {
   "cell_type": "markdown",
   "metadata": {},
   "source": [
    "We can then calculate measures such as **sensitivity** and **specificity**. Sensitivity, also referred to as the true positive rate, tells us, of all of the cases in the data, how many did we accurately predict? This indicates the model's ability to detect cases. In other words, how sensitively does the model pick up on cases?\n",
    "\n",
    "Specificity, also referred to as the true negative rate, tells us, of all of the non-cases in the data, how many did we accurately predict? This indicates the model's ability to assign non-cases."
   ]
  },
  {
   "cell_type": "code",
   "execution_count": 53,
   "metadata": {},
   "outputs": [
    {
     "name": "stdout",
     "output_type": "stream",
     "text": [
      "Sensitivity: 0.13177581707468622\n",
      "Specificity: 0.9592399547723449\n"
     ]
    }
   ],
   "source": [
    "true_df = test_features.loc[test_features['actual'] == test_features['preds']][['actual', 'preds']]\n",
    "false_df = test_features.loc[test_features['actual'] != test_features['preds']][['actual', 'preds']]\n",
    "\n",
    "true_positives = len(true_df[true_df['preds']==1])\n",
    "false_negatives = len(false_df[false_df['preds']==0])\n",
    "true_negatives = len(true_df[true_df['preds']==0])\n",
    "false_positives = len(false_df[false_df['preds']==1])\n",
    "\n",
    "sensitivity = true_positives / (true_positives + false_negatives)\n",
    "specificity = true_negatives / (true_negatives + false_positives)\n",
    "\n",
    "print(f'Sensitivity: {sensitivity}')\n",
    "print(f'Specificity: {specificity}')"
   ]
  },
  {
   "cell_type": "markdown",
   "metadata": {},
   "source": [
    "After calculating these metrics we get a sensitivity value of **.136** and a specificity value of **.957**. This gives is a much clearer understanding of where our model is effective. These values illustrate that our model does *not* accurately predict positive cases but is really accurate at predicting when a project will fail. This makes a lot of sense because most projects that get created by kickstarter tend to fail and that would make it hard to predict whethere a project will succeed just based on the features that we have available to us.\n",
    "\n",
    "We can visualize this by looking at the **ROC Curve**. The ROC Curve is a plot of the false positive rate (x-axis) versus the true positive rate (y-axis) for a number of different candidate threshold values between 0.0 and 1.0. Put another way, it plots the false alarm rate versus the hit rate."
   ]
  },
  {
   "cell_type": "code",
   "execution_count": 54,
   "metadata": {},
   "outputs": [
    {
     "data": {
      "image/png": "[encoded data removed]",
      "text/plain": [
       "<Figure size 432x288 with 1 Axes>"
      ]
     },
     "metadata": {},
     "output_type": "display_data"
    }
   ],
   "source": [
    "from sklearn import metrics\n",
    "fpr, tpr, threshold = metrics.roc_curve(y_true=test_features.actual, y_score=test_features.preds)\n",
    "roc_auc = metrics.auc(fpr, tpr)\n",
    "\n",
    "# Draw your ROC curve\n",
    "plt.plot(fpr, tpr, 'b', label = 'AUC = %0.2f' % roc_auc)\n",
    "plt.legend(loc = 'lower right')\n",
    "plt.plot([0, 1], [0, 1], 'r--')\n",
    "plt.xlim([0, 1])\n",
    "plt.ylim([0, 1])\n",
    "plt.ylabel('True Positive Rate')\n",
    "plt.xlabel('False Positive Rate')\n",
    "plt.show()"
   ]
  },
  {
   "cell_type": "markdown",
   "metadata": {},
   "source": [
    "As you can see, our model does predict more true positives than false positives, but the rate is close."
   ]
  },
  {
   "cell_type": "markdown",
   "metadata": {},
   "source": [
    "## *About the Team*"
   ]
  },
  {
   "cell_type": "markdown",
   "metadata": {},
   "source": [
    "Information on the Team..."
   ]
  }
 ],
 "metadata": {
  "kernelspec": {
   "display_name": "Python 3",
   "language": "python",
   "name": "python3"
  },
  "language_info": {
   "codemirror_mode": {
    "name": "ipython",
    "version": 3
   },
   "file_extension": ".py",
   "mimetype": "text/x-python",
   "name": "python",
   "nbconvert_exporter": "python",
   "pygments_lexer": "ipython3",
   "version": "3.6.5"
  }
 },
 "nbformat": 4,
 "nbformat_minor": 2
}
