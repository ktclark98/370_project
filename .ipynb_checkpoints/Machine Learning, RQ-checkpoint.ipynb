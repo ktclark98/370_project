{
 "cells": [
  {
   "cell_type": "markdown",
   "metadata": {},
   "source": [
    "## Load Necessary Library"
   ]
  },
  {
   "cell_type": "code",
   "execution_count": 11,
   "metadata": {},
   "outputs": [],
   "source": [
    "from sklearn.metrics import accuracy_score,mean_absolute_error\n",
    "from sklearn.tree import DecisionTreeRegressor\n",
    "from sklearn.neighbors import KNeighborsClassifier,KNeighborsRegressor\n",
    "from sklearn.pipeline import make_pipeline,make_union\n",
    "from sklearn.preprocessing import MinMaxScaler, Imputer,PolynomialFeatures, StandardScaler\n",
    "from sklearn.model_selection import GridSearchCV,KFold,train_test_split\n",
    "import warnings\n",
    "from sklearn.feature_selection import SelectPercentile,SelectKBest, VarianceThreshold\n",
    "warnings.filterwarnings('ignore')\n",
    "import numpy as np\n",
    "from sklearn.naive_bayes import MultinomialNB"
   ]
  },
  {
   "cell_type": "code",
   "execution_count": 3,
   "metadata": {},
   "outputs": [],
   "source": [
    "import matplotlib.pyplot as plt\n",
    "import pandas as pd"
   ]
  },
  {
   "cell_type": "code",
   "execution_count": 4,
   "metadata": {},
   "outputs": [],
   "source": [
    "#Need to run all Data Prep Notebook cells\n",
    "%store -r data"
   ]
  },
  {
   "cell_type": "code",
   "execution_count": 5,
   "metadata": {},
   "outputs": [
    {
     "data": {
      "text/html": [
       "<div>\n",
       "<style scoped>\n",
       "    .dataframe tbody tr th:only-of-type {\n",
       "        vertical-align: middle;\n",
       "    }\n",
       "\n",
       "    .dataframe tbody tr th {\n",
       "        vertical-align: top;\n",
       "    }\n",
       "\n",
       "    .dataframe thead th {\n",
       "        text-align: right;\n",
       "    }\n",
       "</style>\n",
       "<table border=\"1\" class=\"dataframe\">\n",
       "  <thead>\n",
       "    <tr style=\"text-align: right;\">\n",
       "      <th></th>\n",
       "      <th>name</th>\n",
       "      <th>category</th>\n",
       "      <th>main_category</th>\n",
       "      <th>currency</th>\n",
       "      <th>deadline</th>\n",
       "      <th>goal</th>\n",
       "      <th>launched</th>\n",
       "      <th>pledged</th>\n",
       "      <th>state</th>\n",
       "      <th>backers</th>\n",
       "      <th>country</th>\n",
       "      <th>usd pledged</th>\n",
       "      <th>usd_pledged_real</th>\n",
       "      <th>usd_goal_real</th>\n",
       "    </tr>\n",
       "    <tr>\n",
       "      <th>ID</th>\n",
       "      <th></th>\n",
       "      <th></th>\n",
       "      <th></th>\n",
       "      <th></th>\n",
       "      <th></th>\n",
       "      <th></th>\n",
       "      <th></th>\n",
       "      <th></th>\n",
       "      <th></th>\n",
       "      <th></th>\n",
       "      <th></th>\n",
       "      <th></th>\n",
       "      <th></th>\n",
       "      <th></th>\n",
       "    </tr>\n",
       "  </thead>\n",
       "  <tbody>\n",
       "    <tr>\n",
       "      <th>1000002330</th>\n",
       "      <td>The Songs of Adelaide &amp; Abullah</td>\n",
       "      <td>108</td>\n",
       "      <td>12</td>\n",
       "      <td>5</td>\n",
       "      <td>2015-10-09</td>\n",
       "      <td>1000.0</td>\n",
       "      <td>2015-08-11 12:12:28</td>\n",
       "      <td>0.0</td>\n",
       "      <td>False</td>\n",
       "      <td>0</td>\n",
       "      <td>9</td>\n",
       "      <td>0.0</td>\n",
       "      <td>0.0</td>\n",
       "      <td>1533.95</td>\n",
       "    </tr>\n",
       "    <tr>\n",
       "      <th>1000003930</th>\n",
       "      <td>Greeting From Earth: ZGAC Arts Capsule For ET</td>\n",
       "      <td>93</td>\n",
       "      <td>6</td>\n",
       "      <td>13</td>\n",
       "      <td>2017-11-01</td>\n",
       "      <td>30000.0</td>\n",
       "      <td>2017-09-02 04:43:57</td>\n",
       "      <td>2421.0</td>\n",
       "      <td>False</td>\n",
       "      <td>15</td>\n",
       "      <td>22</td>\n",
       "      <td>100.0</td>\n",
       "      <td>2421.0</td>\n",
       "      <td>30000.00</td>\n",
       "    </tr>\n",
       "    <tr>\n",
       "      <th>1000004038</th>\n",
       "      <td>Where is Hank?</td>\n",
       "      <td>93</td>\n",
       "      <td>6</td>\n",
       "      <td>13</td>\n",
       "      <td>2013-02-26</td>\n",
       "      <td>45000.0</td>\n",
       "      <td>2013-01-12 00:20:50</td>\n",
       "      <td>220.0</td>\n",
       "      <td>False</td>\n",
       "      <td>3</td>\n",
       "      <td>22</td>\n",
       "      <td>220.0</td>\n",
       "      <td>220.0</td>\n",
       "      <td>45000.00</td>\n",
       "    </tr>\n",
       "    <tr>\n",
       "      <th>1000007540</th>\n",
       "      <td>ToshiCapital Rekordz Needs Help to Complete Album</td>\n",
       "      <td>90</td>\n",
       "      <td>10</td>\n",
       "      <td>13</td>\n",
       "      <td>2012-04-16</td>\n",
       "      <td>5000.0</td>\n",
       "      <td>2012-03-17 03:24:11</td>\n",
       "      <td>1.0</td>\n",
       "      <td>False</td>\n",
       "      <td>1</td>\n",
       "      <td>22</td>\n",
       "      <td>1.0</td>\n",
       "      <td>1.0</td>\n",
       "      <td>5000.00</td>\n",
       "    </tr>\n",
       "    <tr>\n",
       "      <th>1000011046</th>\n",
       "      <td>Community Film Project: The Art of Neighborhoo...</td>\n",
       "      <td>55</td>\n",
       "      <td>6</td>\n",
       "      <td>13</td>\n",
       "      <td>2015-08-29</td>\n",
       "      <td>19500.0</td>\n",
       "      <td>2015-07-04 08:35:03</td>\n",
       "      <td>1283.0</td>\n",
       "      <td>False</td>\n",
       "      <td>14</td>\n",
       "      <td>22</td>\n",
       "      <td>1283.0</td>\n",
       "      <td>1283.0</td>\n",
       "      <td>19500.00</td>\n",
       "    </tr>\n",
       "  </tbody>\n",
       "</table>\n",
       "</div>"
      ],
      "text/plain": [
       "                                                         name  category  \\\n",
       "ID                                                                        \n",
       "1000002330                    The Songs of Adelaide & Abullah       108   \n",
       "1000003930      Greeting From Earth: ZGAC Arts Capsule For ET        93   \n",
       "1000004038                                     Where is Hank?        93   \n",
       "1000007540  ToshiCapital Rekordz Needs Help to Complete Album        90   \n",
       "1000011046  Community Film Project: The Art of Neighborhoo...        55   \n",
       "\n",
       "            main_category  currency   deadline     goal            launched  \\\n",
       "ID                                                                            \n",
       "1000002330             12         5 2015-10-09   1000.0 2015-08-11 12:12:28   \n",
       "1000003930              6        13 2017-11-01  30000.0 2017-09-02 04:43:57   \n",
       "1000004038              6        13 2013-02-26  45000.0 2013-01-12 00:20:50   \n",
       "1000007540             10        13 2012-04-16   5000.0 2012-03-17 03:24:11   \n",
       "1000011046              6        13 2015-08-29  19500.0 2015-07-04 08:35:03   \n",
       "\n",
       "            pledged  state  backers  country  usd pledged  usd_pledged_real  \\\n",
       "ID                                                                            \n",
       "1000002330      0.0  False        0        9          0.0               0.0   \n",
       "1000003930   2421.0  False       15       22        100.0            2421.0   \n",
       "1000004038    220.0  False        3       22        220.0             220.0   \n",
       "1000007540      1.0  False        1       22          1.0               1.0   \n",
       "1000011046   1283.0  False       14       22       1283.0            1283.0   \n",
       "\n",
       "            usd_goal_real  \n",
       "ID                         \n",
       "1000002330        1533.95  \n",
       "1000003930       30000.00  \n",
       "1000004038       45000.00  \n",
       "1000007540        5000.00  \n",
       "1000011046       19500.00  "
      ]
     },
     "execution_count": 5,
     "metadata": {},
     "output_type": "execute_result"
    }
   ],
   "source": [
    "data.head()"
   ]
  },
  {
   "cell_type": "markdown",
   "metadata": {},
   "source": [
    "## Make a new feature"
   ]
  },
  {
   "cell_type": "code",
   "execution_count": 6,
   "metadata": {},
   "outputs": [],
   "source": [
    "data[\"duration\"] = (data[\"deadline\"]  - data['launched']).astype(int)"
   ]
  },
  {
   "cell_type": "code",
   "execution_count": 7,
   "metadata": {},
   "outputs": [
    {
     "data": {
      "text/plain": [
       "Index(['name', 'category', 'main_category', 'currency', 'deadline', 'goal',\n",
       "       'launched', 'pledged', 'state', 'backers', 'country', 'usd pledged',\n",
       "       'usd_pledged_real', 'usd_goal_real', 'duration'],\n",
       "      dtype='object')"
      ]
     },
     "execution_count": 7,
     "metadata": {},
     "output_type": "execute_result"
    }
   ],
   "source": [
    "data.columns"
   ]
  },
  {
   "cell_type": "code",
   "execution_count": 8,
   "metadata": {},
   "outputs": [],
   "source": [
    "feature = data[['category', 'main_category', 'currency', 'goal','duration', 'country']]\n",
    "outcome = data[['state']]\n",
    "feature_name = data[[\"name\"]]"
   ]
  },
  {
   "cell_type": "code",
   "execution_count": 9,
   "metadata": {},
   "outputs": [
    {
     "data": {
      "text/html": [
       "<div>\n",
       "<style scoped>\n",
       "    .dataframe tbody tr th:only-of-type {\n",
       "        vertical-align: middle;\n",
       "    }\n",
       "\n",
       "    .dataframe tbody tr th {\n",
       "        vertical-align: top;\n",
       "    }\n",
       "\n",
       "    .dataframe thead th {\n",
       "        text-align: right;\n",
       "    }\n",
       "</style>\n",
       "<table border=\"1\" class=\"dataframe\">\n",
       "  <thead>\n",
       "    <tr style=\"text-align: right;\">\n",
       "      <th></th>\n",
       "      <th>category</th>\n",
       "      <th>main_category</th>\n",
       "      <th>currency</th>\n",
       "      <th>goal</th>\n",
       "      <th>duration</th>\n",
       "      <th>country</th>\n",
       "    </tr>\n",
       "    <tr>\n",
       "      <th>ID</th>\n",
       "      <th></th>\n",
       "      <th></th>\n",
       "      <th></th>\n",
       "      <th></th>\n",
       "      <th></th>\n",
       "      <th></th>\n",
       "    </tr>\n",
       "  </thead>\n",
       "  <tbody>\n",
       "    <tr>\n",
       "      <th>1000002330</th>\n",
       "      <td>108</td>\n",
       "      <td>12</td>\n",
       "      <td>5</td>\n",
       "      <td>1000.0</td>\n",
       "      <td>5053652000000000</td>\n",
       "      <td>9</td>\n",
       "    </tr>\n",
       "    <tr>\n",
       "      <th>1000003930</th>\n",
       "      <td>93</td>\n",
       "      <td>6</td>\n",
       "      <td>13</td>\n",
       "      <td>30000.0</td>\n",
       "      <td>5166963000000000</td>\n",
       "      <td>22</td>\n",
       "    </tr>\n",
       "    <tr>\n",
       "      <th>1000004038</th>\n",
       "      <td>93</td>\n",
       "      <td>6</td>\n",
       "      <td>13</td>\n",
       "      <td>45000.0</td>\n",
       "      <td>3886750000000000</td>\n",
       "      <td>22</td>\n",
       "    </tr>\n",
       "    <tr>\n",
       "      <th>1000007540</th>\n",
       "      <td>90</td>\n",
       "      <td>10</td>\n",
       "      <td>13</td>\n",
       "      <td>5000.0</td>\n",
       "      <td>2579749000000000</td>\n",
       "      <td>22</td>\n",
       "    </tr>\n",
       "    <tr>\n",
       "      <th>1000011046</th>\n",
       "      <td>55</td>\n",
       "      <td>6</td>\n",
       "      <td>13</td>\n",
       "      <td>19500.0</td>\n",
       "      <td>4807497000000000</td>\n",
       "      <td>22</td>\n",
       "    </tr>\n",
       "  </tbody>\n",
       "</table>\n",
       "</div>"
      ],
      "text/plain": [
       "            category  main_category  currency     goal          duration  \\\n",
       "ID                                                                         \n",
       "1000002330       108             12         5   1000.0  5053652000000000   \n",
       "1000003930        93              6        13  30000.0  5166963000000000   \n",
       "1000004038        93              6        13  45000.0  3886750000000000   \n",
       "1000007540        90             10        13   5000.0  2579749000000000   \n",
       "1000011046        55              6        13  19500.0  4807497000000000   \n",
       "\n",
       "            country  \n",
       "ID                   \n",
       "1000002330        9  \n",
       "1000003930       22  \n",
       "1000004038       22  \n",
       "1000007540       22  \n",
       "1000011046       22  "
      ]
     },
     "execution_count": 9,
     "metadata": {},
     "output_type": "execute_result"
    }
   ],
   "source": [
    "feature.head()"
   ]
  },
  {
   "cell_type": "markdown",
   "metadata": {},
   "source": [
    "## Split test and train data set"
   ]
  },
  {
   "cell_type": "code",
   "execution_count": 12,
   "metadata": {},
   "outputs": [],
   "source": [
    "train_features_small, validation_features, train_outcome_small, validation_outcome = train_test_split(\n",
    "    feature,\n",
    "    outcome,\n",
    "    test_size = 0.2\n",
    ")\n",
    "train_name_small, validation_name_features, train_outcome_small_name, validation_name_outcome = train_test_split(\n",
    "    feature_name,\n",
    "    outcome,\n",
    "    test_size = 0.2\n",
    ")"
   ]
  },
  {
   "cell_type": "markdown",
   "metadata": {},
   "source": [
    "# Predict the State by Its Name"
   ]
  },
  {
   "cell_type": "code",
   "execution_count": 50,
   "metadata": {},
   "outputs": [
    {
     "data": {
      "text/plain": [
       "Pipeline(memory=None,\n",
       "     steps=[('countvectorizer', CountVectorizer(analyzer='word', binary=False, decode_error='strict',\n",
       "        dtype=<class 'numpy.int64'>, encoding='utf-8', input='content',\n",
       "        lowercase=True, max_df=1.0, max_features=None, min_df=1,\n",
       "        ngram_range=(1, 1), preprocessor=None, stop_words=None,\n",
       "  ...alse, use_idf=True)), ('multinomialnb', MultinomialNB(alpha=1.0, class_prior=None, fit_prior=True))])"
      ]
     },
     "execution_count": 50,
     "metadata": {},
     "output_type": "execute_result"
    }
   ],
   "source": [
    "from sklearn.feature_extraction.text import TfidfTransformer\n",
    "from sklearn.feature_extraction.text import CountVectorizer\n",
    "\n",
    "text_clf = make_pipeline(CountVectorizer(),\n",
    "                    TfidfTransformer(),\n",
    "                    MultinomialNB())\n",
    "\n",
    "text_clf.fit(train_name_small.name,train_outcome_small_name)"
   ]
  },
  {
   "cell_type": "code",
   "execution_count": 53,
   "metadata": {},
   "outputs": [
    {
     "data": {
      "text/plain": [
       "0.669588815133093"
      ]
     },
     "execution_count": 53,
     "metadata": {},
     "output_type": "execute_result"
    }
   ],
   "source": [
    "text_clf.score(validation_name_features.name,validation_name_outcome)"
   ]
  },
  {
   "cell_type": "markdown",
   "metadata": {},
   "source": [
    "### Get classification possibilty for whether it is successful or not"
   ]
  },
  {
   "cell_type": "code",
   "execution_count": 100,
   "metadata": {},
   "outputs": [],
   "source": [
    "name_proba = text_clf.predict_proba(validation_name_features.name)"
   ]
  },
  {
   "cell_type": "code",
   "execution_count": 101,
   "metadata": {},
   "outputs": [
    {
     "data": {
      "text/plain": [
       "array([[-0.55416376, -0.85461378],\n",
       "       [-0.71421254, -0.67251643],\n",
       "       [-0.56476739, -0.84047008],\n",
       "       ...,\n",
       "       [-0.19295233, -1.7402375 ],\n",
       "       [-1.25946108, -0.3338055 ],\n",
       "       [-0.70385802, -0.68254985]])"
      ]
     },
     "execution_count": 101,
     "metadata": {},
     "output_type": "execute_result"
    }
   ],
   "source": [
    "name_proba"
   ]
  },
  {
   "cell_type": "markdown",
   "metadata": {},
   "source": [
    "# Predict the State by other value"
   ]
  },
  {
   "cell_type": "code",
   "execution_count": 67,
   "metadata": {},
   "outputs": [],
   "source": [
    "from sklearn.ensemble import RandomForestClassifier\n",
    "pipe = make_pipeline(VarianceThreshold(0.1),\n",
    "                     SelectKBest(k=5),\n",
    "                     RandomForestClassifier(max_features=\"auto\",max_depth=4, min_samples_split=2)\n",
    "                     )\n",
    "\n",
    "params ={'randomforestclassifier__n_estimators':[10]\n",
    "        # 'selectkbest__k':range(1,7)\n",
    "        }\n",
    "\n",
    "grid_search_rf = GridSearchCV(pipe, param_grid = params,\n",
    "                               cv = KFold(n_splits=10, shuffle=True),n_jobs = -1)"
   ]
  },
  {
   "cell_type": "code",
   "execution_count": 68,
   "metadata": {},
   "outputs": [
    {
     "data": {
      "text/plain": [
       "Pipeline(memory=None,\n",
       "     steps=[('variancethreshold', VarianceThreshold(threshold=0.1)), ('selectkbest', SelectKBest(k=5, score_func=<function f_classif at 0x122025bf8>)), ('randomforestclassifier', RandomForestClassifier(bootstrap=True, class_weight=None, criterion='gini',\n",
       "            max_depth=4, max_features='auto', max_...obs=None,\n",
       "            oob_score=False, random_state=None, verbose=0,\n",
       "            warm_start=False))])"
      ]
     },
     "execution_count": 68,
     "metadata": {},
     "output_type": "execute_result"
    }
   ],
   "source": [
    "pipe.fit(train_features_small,train_outcome_small)"
   ]
  },
  {
   "cell_type": "code",
   "execution_count": 69,
   "metadata": {},
   "outputs": [
    {
     "data": {
      "text/plain": [
       "0.6646003219240951"
      ]
     },
     "execution_count": 69,
     "metadata": {},
     "output_type": "execute_result"
    }
   ],
   "source": [
    "pipe.score(validation_features,validation_outcome)"
   ]
  },
  {
   "cell_type": "code",
   "execution_count": 106,
   "metadata": {},
   "outputs": [],
   "source": [
    "rf_proba = pipe.predict_log_proba(validation_features)"
   ]
  },
  {
   "cell_type": "markdown",
   "metadata": {},
   "source": [
    "# Combine two Prediction Together"
   ]
  },
  {
   "cell_type": "code",
   "execution_count": 107,
   "metadata": {},
   "outputs": [],
   "source": [
    "total_proba = name_proba * rf_proba"
   ]
  },
  {
   "cell_type": "code",
   "execution_count": 108,
   "metadata": {},
   "outputs": [
    {
     "data": {
      "text/plain": [
       "array([[0.27718412, 0.79689983],\n",
       "       [0.52655006, 0.43774873],\n",
       "       [0.29568657, 0.75431854],\n",
       "       ...,\n",
       "       [0.10719979, 1.48391614],\n",
       "       [0.657058  , 0.30049206],\n",
       "       [0.4828025 , 0.47806432]])"
      ]
     },
     "execution_count": 108,
     "metadata": {},
     "output_type": "execute_result"
    }
   ],
   "source": [
    "total_proba"
   ]
  },
  {
   "cell_type": "code",
   "execution_count": 112,
   "metadata": {},
   "outputs": [],
   "source": [
    "total_pred = [(x[0] >= x[1])for x in total_proba]"
   ]
  },
  {
   "cell_type": "code",
   "execution_count": 113,
   "metadata": {},
   "outputs": [],
   "source": [
    "validation_outcome[\"pred\"] = total_pred"
   ]
  },
  {
   "cell_type": "code",
   "execution_count": 114,
   "metadata": {},
   "outputs": [
    {
     "data": {
      "text/plain": [
       "0.643489018663616"
      ]
     },
     "execution_count": 114,
     "metadata": {},
     "output_type": "execute_result"
    }
   ],
   "source": [
    "len(validation_outcome[validation_outcome[\"pred\"]==validation_outcome[\"state\"]])/len(validation_outcome)"
   ]
  },
  {
   "cell_type": "markdown",
   "metadata": {},
   "source": [
    "### Neural Network test"
   ]
  },
  {
   "cell_type": "code",
   "execution_count": 116,
   "metadata": {},
   "outputs": [],
   "source": [
    "from sklearn.neural_network import MLPClassifier\n",
    "\n",
    "    \n",
    "pipe = make_pipeline(VarianceThreshold(0.1),\n",
    "                    SelectKBest(k = 10),\n",
    "                     MLPClassifier(hidden_layer_sizes=(13,5,),  \n",
    "                                  activation='relu', \n",
    "                                   batch_size='auto', \n",
    "                                  learning_rate_init=0.01, power_t=0.5, \n",
    "                                  max_iter=1000, shuffle=True,\n",
    "                                  tol=0.0001, verbose=False, warm_start=False,\n",
    "                                  momentum=0.9, nesterovs_momentum=True,\n",
    "                                    early_stopping=False, validation_fraction=0.1,\n",
    "                                  beta_1=0.9,beta_2=0.999, epsilon=1e-08)\n",
    "                                )\n",
    "params ={'mlpclassifier__alpha':[0.0001,0.001,0.01],\n",
    "         'mlpclassifier__solver':['lbfgs',  'adam']\n",
    "        }\n",
    "\n",
    "grid_search_nn = GridSearchCV(pipe, param_grid = params,cv = KFold(n_splits=5, shuffle=True),n_jobs=-1)"
   ]
  },
  {
   "cell_type": "code",
   "execution_count": 111,
   "metadata": {},
   "outputs": [],
   "source": [
    "train_outcome_small.state = train_outcome_small.state.astype(int)"
   ]
  },
  {
   "cell_type": "code",
   "execution_count": 117,
   "metadata": {},
   "outputs": [
    {
     "data": {
      "text/plain": [
       "GridSearchCV(cv=KFold(n_splits=5, random_state=None, shuffle=True),\n",
       "       error_score='raise-deprecating',\n",
       "       estimator=Pipeline(memory=None,\n",
       "     steps=[('variancethreshold', VarianceThreshold(threshold=0.1)), ('selectkbest', SelectKBest(k=10, score_func=<function f_classif at 0x1272c8d08>)), ('mlpclassifier', MLPClassifier(activation='relu', alpha=0.0001, batch_size='auto', beta_1=0.9,\n",
       "       beta_2=0.999, early_stopping=False, epsilon=1e-08...=True, solver='adam', tol=0.0001,\n",
       "       validation_fraction=0.1, verbose=False, warm_start=False))]),\n",
       "       fit_params=None, iid='warn', n_jobs=-1,\n",
       "       param_grid={'mlpclassifier__alpha': [0.0001, 0.001, 0.01], 'mlpclassifier__solver': ['lbfgs', 'adam']},\n",
       "       pre_dispatch='2*n_jobs', refit=True, return_train_score='warn',\n",
       "       scoring=None, verbose=0)"
      ]
     },
     "execution_count": 117,
     "metadata": {},
     "output_type": "execute_result"
    }
   ],
   "source": [
    "grid_search_nn.fit(train_features_small,train_outcome_small)"
   ]
  },
  {
   "cell_type": "code",
   "execution_count": 118,
   "metadata": {},
   "outputs": [
    {
     "data": {
      "text/plain": [
       "0.6422518723477845"
      ]
     },
     "execution_count": 118,
     "metadata": {},
     "output_type": "execute_result"
    }
   ],
   "source": [
    "grid_search_nn.score(validation_features,validation_outcome)"
   ]
  }
 ],
 "metadata": {
  "kernelspec": {
   "display_name": "Python 3",
   "language": "python",
   "name": "python3"
  },
  "language_info": {
   "codemirror_mode": {
    "name": "ipython",
    "version": 3
   },
   "file_extension": ".py",
   "mimetype": "text/x-python",
   "name": "python",
   "nbconvert_exporter": "python",
   "pygments_lexer": "ipython3",
   "version": "3.7.0"
  }
 },
 "nbformat": 4,
 "nbformat_minor": 2
}
