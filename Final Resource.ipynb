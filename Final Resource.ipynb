{
 "cells": [
  {
   "cell_type": "markdown",
   "metadata": {},
   "source": [
    "# What makes a Kickstarter campaign successful?"
   ]
  },
  {
   "cell_type": "markdown",
   "metadata": {},
   "source": [
    "## Project Overview"
   ]
  },
  {
   "cell_type": "markdown",
   "metadata": {},
   "source": [
    "Purpose of the project..."
   ]
  },
  {
   "cell_type": "markdown",
   "metadata": {},
   "source": [
    "Data source..."
   ]
  },
  {
   "cell_type": "markdown",
   "metadata": {},
   "source": [
    "## Data Cleaning"
   ]
  },
  {
   "cell_type": "code",
   "execution_count": 2,
   "metadata": {},
   "outputs": [],
   "source": [
    "import pandas as pd\n",
    "import numpy as np\n",
    "from matplotlib import pyplot as plt\n",
    "import seaborn as sns\n",
    "from sklearn.preprocessing import LabelEncoder, Imputer\n",
    "import warnings\n",
    "warnings.filterwarnings('ignore')"
   ]
  },
  {
   "cell_type": "code",
   "execution_count": 3,
   "metadata": {},
   "outputs": [],
   "source": [
    "#Load the data\n",
    "origin_data = pd.read_csv('./Data/ks-projects-201801.csv',index_col=[0])\n",
    "\n",
    "data = origin_data.copy()\n",
    "#In this project, we ignore the title's factor to the successful rate. \n",
    "#data.drop(\"name\",inplace=True, axis=1)\n",
    "\n",
    "#We only consider the projects are completed. \n",
    "data = data[data.state != \"live\"]\n",
    "\n",
    "#There are many other states like failed, suspended, we consider them as failed.\n",
    "data.state = data.state == \"successful\""
   ]
  },
  {
   "cell_type": "code",
   "execution_count": 4,
   "metadata": {},
   "outputs": [],
   "source": [
    "#Convert the data to datetime\n",
    "data.deadline = pd.to_datetime(data.deadline)\n",
    "data.launched = pd.to_datetime(data.launched)"
   ]
  },
  {
   "cell_type": "code",
   "execution_count": 21,
   "metadata": {},
   "outputs": [],
   "source": [
    "# Remove data points that say date launched is in 1970\n",
    "low = min(data.launched)\n",
    "data = data[data.launched != low]"
   ]
  },
  {
   "cell_type": "markdown",
   "metadata": {},
   "source": [
    "### Check for Null data and use bfill to fill the data\n"
   ]
  },
  {
   "cell_type": "code",
   "execution_count": 5,
   "metadata": {},
   "outputs": [],
   "source": [
    "pd.isna(data).any()\n",
    "data.fillna(method=\"bfill\",inplace=True)"
   ]
  },
  {
   "cell_type": "code",
   "execution_count": 6,
   "metadata": {},
   "outputs": [],
   "source": [
    "data.category = \"sub_\"+ data.category\n",
    "rawdata = data.copy()\n",
    "le = LabelEncoder()\n",
    "total =[]\n",
    "for col in data.columns:\n",
    "        if col != \"name\":\n",
    "            if data.dtypes[col] == \"object\":\n",
    "                total +=  list(data[col].astype(str))\n",
    "le.fit(total)\n",
    "for col in data.columns:\n",
    "        if col != \"name\":\n",
    "            if data.dtypes[col] == \"object\":\n",
    "                data[col] = le.transform(data[col].astype(str))"
   ]
  },
  {
   "cell_type": "code",
   "execution_count": 7,
   "metadata": {},
   "outputs": [],
   "source": [
    "num_cam = data['launched'].groupby([data['launched'].dt.year.rename('year'), data['launched'].dt.month.rename('month')]).agg({'count'})\n"
   ]
  },
  {
   "cell_type": "code",
   "execution_count": 8,
   "metadata": {},
   "outputs": [],
   "source": [
    "data[\"month\"] = data[\"launched\"].dt.month\n",
    "data[\"month_deadline\"] = data[\"deadline\"].dt.month\n",
    "data[\"launch_day_of_week\"] = data[\"launched\"].dt.dayofweek\n",
    "data[\"duration\"] = ((data[\"deadline\"]  - data['launched'])/ np.timedelta64(1, 'D')).astype(int)\n",
    "data[\"year\"] = data[\"launched\"].dt.year"
   ]
  },
  {
   "cell_type": "code",
   "execution_count": 9,
   "metadata": {},
   "outputs": [],
   "source": [
    "data = pd.merge(data, num_cam, on=[\"month\",\"year\"])"
   ]
  },
  {
   "cell_type": "code",
   "execution_count": 10,
   "metadata": {},
   "outputs": [
    {
     "data": {
      "text/html": [
       "<div>\n",
       "<style scoped>\n",
       "    .dataframe tbody tr th:only-of-type {\n",
       "        vertical-align: middle;\n",
       "    }\n",
       "\n",
       "    .dataframe tbody tr th {\n",
       "        vertical-align: top;\n",
       "    }\n",
       "\n",
       "    .dataframe thead th {\n",
       "        text-align: right;\n",
       "    }\n",
       "</style>\n",
       "<table border=\"1\" class=\"dataframe\">\n",
       "  <thead>\n",
       "    <tr style=\"text-align: right;\">\n",
       "      <th></th>\n",
       "      <th>name</th>\n",
       "      <th>category</th>\n",
       "      <th>main_category</th>\n",
       "      <th>currency</th>\n",
       "      <th>deadline</th>\n",
       "      <th>goal</th>\n",
       "      <th>launched</th>\n",
       "      <th>pledged</th>\n",
       "      <th>state</th>\n",
       "      <th>backers</th>\n",
       "      <th>country</th>\n",
       "      <th>usd pledged</th>\n",
       "      <th>usd_pledged_real</th>\n",
       "      <th>usd_goal_real</th>\n",
       "      <th>month</th>\n",
       "      <th>month_deadline</th>\n",
       "      <th>launch_day_of_week</th>\n",
       "      <th>duration</th>\n",
       "      <th>year</th>\n",
       "      <th>count</th>\n",
       "    </tr>\n",
       "  </thead>\n",
       "  <tbody>\n",
       "    <tr>\n",
       "      <th>0</th>\n",
       "      <td>The Songs of Adelaide &amp; Abullah</td>\n",
       "      <td>160</td>\n",
       "      <td>43</td>\n",
       "      <td>23</td>\n",
       "      <td>2015-10-09</td>\n",
       "      <td>1000.0</td>\n",
       "      <td>2015-08-11 12:12:28</td>\n",
       "      <td>0.0</td>\n",
       "      <td>False</td>\n",
       "      <td>0</td>\n",
       "      <td>22</td>\n",
       "      <td>0.0</td>\n",
       "      <td>0.0</td>\n",
       "      <td>1533.95</td>\n",
       "      <td>8</td>\n",
       "      <td>10</td>\n",
       "      <td>1</td>\n",
       "      <td>58</td>\n",
       "      <td>2015</td>\n",
       "      <td>5723</td>\n",
       "    </tr>\n",
       "    <tr>\n",
       "      <th>1</th>\n",
       "      <td>Legacy of Svarog | a Unique 3D Action RPG and ...</td>\n",
       "      <td>200</td>\n",
       "      <td>24</td>\n",
       "      <td>51</td>\n",
       "      <td>2015-10-30</td>\n",
       "      <td>50000.0</td>\n",
       "      <td>2015-08-31 06:33:31</td>\n",
       "      <td>1410.0</td>\n",
       "      <td>False</td>\n",
       "      <td>38</td>\n",
       "      <td>50</td>\n",
       "      <td>1410.0</td>\n",
       "      <td>1410.0</td>\n",
       "      <td>50000.00</td>\n",
       "      <td>8</td>\n",
       "      <td>10</td>\n",
       "      <td>0</td>\n",
       "      <td>59</td>\n",
       "      <td>2015</td>\n",
       "      <td>5723</td>\n",
       "    </tr>\n",
       "  </tbody>\n",
       "</table>\n",
       "</div>"
      ],
      "text/plain": [
       "                                                name  category  main_category  \\\n",
       "0                    The Songs of Adelaide & Abullah       160             43   \n",
       "1  Legacy of Svarog | a Unique 3D Action RPG and ...       200             24   \n",
       "\n",
       "   currency   deadline     goal            launched  pledged  state  backers  \\\n",
       "0        23 2015-10-09   1000.0 2015-08-11 12:12:28      0.0  False        0   \n",
       "1        51 2015-10-30  50000.0 2015-08-31 06:33:31   1410.0  False       38   \n",
       "\n",
       "   country  usd pledged  usd_pledged_real  usd_goal_real  month  \\\n",
       "0       22          0.0               0.0        1533.95      8   \n",
       "1       50       1410.0            1410.0       50000.00      8   \n",
       "\n",
       "   month_deadline  launch_day_of_week  duration  year  count  \n",
       "0              10                   1        58  2015   5723  \n",
       "1              10                   0        59  2015   5723  "
      ]
     },
     "execution_count": 10,
     "metadata": {},
     "output_type": "execute_result"
    }
   ],
   "source": [
    "data.head(2)"
   ]
  },
  {
   "cell_type": "code",
   "execution_count": 11,
   "metadata": {},
   "outputs": [
    {
     "name": "stdout",
     "output_type": "stream",
     "text": [
      "Stored 'data' (DataFrame)\n",
      "Stored 'le' (LabelEncoder)\n",
      "Stored 'rawdata' (DataFrame)\n"
     ]
    }
   ],
   "source": [
    "%store data\n",
    "%store le\n",
    "%store rawdata"
   ]
  },
  {
   "cell_type": "markdown",
   "metadata": {},
   "source": [
    "### Convert Catagorial Data to Numerical"
   ]
  },
  {
   "cell_type": "markdown",
   "metadata": {},
   "source": [
    "## Exploratory Data Analysis"
   ]
  },
  {
   "cell_type": "markdown",
   "metadata": {},
   "source": [
    "Purpose of the data exploration..."
   ]
  },
  {
   "cell_type": "code",
   "execution_count": 29,
   "metadata": {},
   "outputs": [
    {
     "data": {
      "image/png": "[encoded data removed]",
      "text/plain": [
       "<Figure size 600x400 with 1 Axes>"
      ]
     },
     "metadata": {},
     "output_type": "display_data"
    }
   ],
   "source": [
    "sns.set_style('darkgrid')\n",
    "mains =rawdata.main_category.value_counts().head(15)\n",
    "\n",
    "x = mains.values\n",
    "y = mains.index\n",
    "\n",
    "fig = plt.figure(dpi=100)\n",
    "ax = fig.add_subplot(111)\n",
    "ax = sns.barplot(y=y, x=x, orient='h', alpha=0.8)\n",
    "\n",
    "plt.title('Kickstarter Top 15 Category Count')\n",
    "plt.show()"
   ]
  },
  {
   "cell_type": "code",
   "execution_count": 30,
   "metadata": {},
   "outputs": [
    {
     "data": {
      "image/png": "[encoded data removed]",
      "text/plain": [
       "<Figure size 600x400 with 1 Axes>"
      ]
     },
     "metadata": {},
     "output_type": "display_data"
    }
   ],
   "source": [
    "cats = rawdata.category.value_counts().head(15)\n",
    "\n",
    "x = cats.values\n",
    "y = cats.index\n",
    "\n",
    "fig = plt.figure(dpi=100)\n",
    "ax = fig.add_subplot(111)\n",
    "ax = sns.barplot(y=y, x=x, orient='h', alpha=0.8)\n",
    "\n",
    "plt.title('Kickstarter Top 15 Sub-Category Count')\n",
    "plt.show()"
   ]
  },
  {
   "cell_type": "code",
   "execution_count": 14,
   "metadata": {},
   "outputs": [
    {
     "data": {
      "image/png": "[encoded data removed]",
      "text/plain": [
       "<Figure size 600x400 with 1 Axes>"
      ]
     },
     "metadata": {},
     "output_type": "display_data"
    }
   ],
   "source": [
    "successful_data = data[data.state == 1]\n",
    "suc_cats = successful_data.main_category.value_counts().head(15)\n",
    "\n",
    "x = suc_cats.values\n",
    "y = suc_cats.index\n",
    "\n",
    "fig = plt.figure(dpi=100)\n",
    "ax = fig.add_subplot(111)\n",
    "ax = sns.barplot(y=y, x=x, orient='h',  alpha=0.8)\n",
    "\n",
    "plt.title('Kickstarter Top 15 Main Category Successful Project Count')\n",
    "plt.show()"
   ]
  },
  {
   "cell_type": "code",
   "execution_count": 15,
   "metadata": {},
   "outputs": [
    {
     "data": {
      "image/png": "[encoded data removed]",
      "text/plain": [
       "<Figure size 600x400 with 1 Axes>"
      ]
     },
     "metadata": {},
     "output_type": "display_data"
    }
   ],
   "source": [
    "successful_data = data[data.state == 1]\n",
    "suc_cats = successful_data.category.value_counts().head(15)\n",
    "\n",
    "x = suc_cats.values\n",
    "y = suc_cats.index\n",
    "\n",
    "fig = plt.figure(dpi=100)\n",
    "ax = fig.add_subplot(111)\n",
    "ax = sns.barplot(y=y, x=x, orient='h', alpha=0.8)\n",
    "\n",
    "plt.title('Kickstarter Top 15 Sub-Category Successful Project Count')\n",
    "plt.show()"
   ]
  },
  {
   "cell_type": "code",
   "execution_count": 41,
   "metadata": {},
   "outputs": [
    {
     "name": "stdout",
     "output_type": "stream",
     "text": [
      "Total Number of Completed Projects: 375862 \n",
      "Total Number of Successful Projects: 133956 \n",
      "Successful Rate Among All projects: 35.64%\n",
      "Number of Catagories: Main catagories num - 15 Sub catagories num - 159 \n",
      "\n"
     ]
    }
   ],
   "source": [
    "print(\"Total Number of Completed Projects:\", len(data),\"\\n\"\n",
    "      \"Total Number of Successful Projects:\", len(data[data.state == 1]),\"\\n\"\n",
    "      \"Successful Rate Among All projects:\",str(round(len(data[data.state == 1])/len(data)* 100,2)) + \"%\\n\"\n",
    "      \"Number of Catagories: Main catagories num -\", len(set(data[\"main_category\"])), \"Sub catagories num -\", len(set(data[\"category\"])),\"\\n\"\n",
    "     )"
   ]
  },
  {
   "cell_type": "code",
   "execution_count": 42,
   "metadata": {},
   "outputs": [
    {
     "data": {
      "text/html": [
       "<div>\n",
       "<style scoped>\n",
       "    .dataframe tbody tr th:only-of-type {\n",
       "        vertical-align: middle;\n",
       "    }\n",
       "\n",
       "    .dataframe tbody tr th {\n",
       "        vertical-align: top;\n",
       "    }\n",
       "\n",
       "    .dataframe thead th {\n",
       "        text-align: right;\n",
       "    }\n",
       "</style>\n",
       "<table border=\"1\" class=\"dataframe\">\n",
       "  <thead>\n",
       "    <tr style=\"text-align: right;\">\n",
       "      <th></th>\n",
       "      <th>category</th>\n",
       "      <th>main_category</th>\n",
       "      <th>currency</th>\n",
       "      <th>goal</th>\n",
       "      <th>pledged</th>\n",
       "      <th>backers</th>\n",
       "      <th>country</th>\n",
       "      <th>usd pledged</th>\n",
       "      <th>usd_pledged_real</th>\n",
       "      <th>usd_goal_real</th>\n",
       "      <th>month_launched</th>\n",
       "      <th>month_deadline</th>\n",
       "      <th>launch_day_of_week</th>\n",
       "      <th>duration</th>\n",
       "      <th>year</th>\n",
       "      <th>month</th>\n",
       "      <th>count</th>\n",
       "    </tr>\n",
       "  </thead>\n",
       "  <tbody>\n",
       "    <tr>\n",
       "      <th>count</th>\n",
       "      <td>375862.000000</td>\n",
       "      <td>375862.000000</td>\n",
       "      <td>375862.000000</td>\n",
       "      <td>3.758620e+05</td>\n",
       "      <td>3.758620e+05</td>\n",
       "      <td>375862.000000</td>\n",
       "      <td>375862.000000</td>\n",
       "      <td>3.758620e+05</td>\n",
       "      <td>3.758620e+05</td>\n",
       "      <td>3.758620e+05</td>\n",
       "      <td>375862.000000</td>\n",
       "      <td>375862.000000</td>\n",
       "      <td>375862.000000</td>\n",
       "      <td>375862.000000</td>\n",
       "      <td>375862.000000</td>\n",
       "      <td>375862.000000</td>\n",
       "      <td>375862.000000</td>\n",
       "    </tr>\n",
       "    <tr>\n",
       "      <th>mean</th>\n",
       "      <td>132.781667</td>\n",
       "      <td>26.595471</td>\n",
       "      <td>43.721347</td>\n",
       "      <td>4.887465e+04</td>\n",
       "      <td>9.687431e+03</td>\n",
       "      <td>105.896866</td>\n",
       "      <td>42.864823</td>\n",
       "      <td>7.072391e+03</td>\n",
       "      <td>9.082678e+03</td>\n",
       "      <td>4.532720e+04</td>\n",
       "      <td>6.425403</td>\n",
       "      <td>6.761929</td>\n",
       "      <td>2.422009</td>\n",
       "      <td>33.441473</td>\n",
       "      <td>2014.227014</td>\n",
       "      <td>6.425403</td>\n",
       "      <td>4835.875151</td>\n",
       "    </tr>\n",
       "    <tr>\n",
       "      <th>std</th>\n",
       "      <td>45.088300</td>\n",
       "      <td>13.459400</td>\n",
       "      <td>14.543039</td>\n",
       "      <td>1.176595e+06</td>\n",
       "      <td>9.588649e+04</td>\n",
       "      <td>909.952393</td>\n",
       "      <td>14.309326</td>\n",
       "      <td>7.861346e+04</td>\n",
       "      <td>9.127075e+04</td>\n",
       "      <td>1.145865e+06</td>\n",
       "      <td>3.310220</td>\n",
       "      <td>3.320265</td>\n",
       "      <td>1.764459</td>\n",
       "      <td>66.142888</td>\n",
       "      <td>1.925235</td>\n",
       "      <td>3.310220</td>\n",
       "      <td>1902.347191</td>\n",
       "    </tr>\n",
       "    <tr>\n",
       "      <th>min</th>\n",
       "      <td>52.000000</td>\n",
       "      <td>3.000000</td>\n",
       "      <td>2.000000</td>\n",
       "      <td>1.000000e-02</td>\n",
       "      <td>0.000000e+00</td>\n",
       "      <td>0.000000</td>\n",
       "      <td>0.000000</td>\n",
       "      <td>0.000000e+00</td>\n",
       "      <td>0.000000e+00</td>\n",
       "      <td>1.000000e-02</td>\n",
       "      <td>1.000000</td>\n",
       "      <td>1.000000</td>\n",
       "      <td>0.000000</td>\n",
       "      <td>0.000000</td>\n",
       "      <td>1970.000000</td>\n",
       "      <td>1.000000</td>\n",
       "      <td>2.000000</td>\n",
       "    </tr>\n",
       "    <tr>\n",
       "      <th>30%</th>\n",
       "      <td>104.000000</td>\n",
       "      <td>20.000000</td>\n",
       "      <td>51.000000</td>\n",
       "      <td>2.500000e+03</td>\n",
       "      <td>7.000000e+01</td>\n",
       "      <td>3.000000</td>\n",
       "      <td>50.000000</td>\n",
       "      <td>4.000000e+01</td>\n",
       "      <td>7.000000e+01</td>\n",
       "      <td>2.500000e+03</td>\n",
       "      <td>4.000000</td>\n",
       "      <td>5.000000</td>\n",
       "      <td>1.000000</td>\n",
       "      <td>29.000000</td>\n",
       "      <td>2013.000000</td>\n",
       "      <td>4.000000</td>\n",
       "      <td>3962.000000</td>\n",
       "    </tr>\n",
       "    <tr>\n",
       "      <th>50%</th>\n",
       "      <td>139.000000</td>\n",
       "      <td>21.000000</td>\n",
       "      <td>51.000000</td>\n",
       "      <td>5.100000e+03</td>\n",
       "      <td>6.250000e+02</td>\n",
       "      <td>12.000000</td>\n",
       "      <td>50.000000</td>\n",
       "      <td>4.000000e+02</td>\n",
       "      <td>6.274500e+02</td>\n",
       "      <td>5.480000e+03</td>\n",
       "      <td>6.000000</td>\n",
       "      <td>7.000000</td>\n",
       "      <td>2.000000</td>\n",
       "      <td>29.000000</td>\n",
       "      <td>2014.000000</td>\n",
       "      <td>6.000000</td>\n",
       "      <td>4463.000000</td>\n",
       "    </tr>\n",
       "    <tr>\n",
       "      <th>70%</th>\n",
       "      <td>165.000000</td>\n",
       "      <td>35.000000</td>\n",
       "      <td>51.000000</td>\n",
       "      <td>1.250000e+04</td>\n",
       "      <td>2.941406e+03</td>\n",
       "      <td>42.000000</td>\n",
       "      <td>50.000000</td>\n",
       "      <td>2.108000e+03</td>\n",
       "      <td>2.928782e+03</td>\n",
       "      <td>1.238927e+04</td>\n",
       "      <td>9.000000</td>\n",
       "      <td>9.000000</td>\n",
       "      <td>3.000000</td>\n",
       "      <td>32.000000</td>\n",
       "      <td>2015.000000</td>\n",
       "      <td>9.000000</td>\n",
       "      <td>5659.000000</td>\n",
       "    </tr>\n",
       "    <tr>\n",
       "      <th>max</th>\n",
       "      <td>210.000000</td>\n",
       "      <td>49.000000</td>\n",
       "      <td>51.000000</td>\n",
       "      <td>1.000000e+08</td>\n",
       "      <td>2.033899e+07</td>\n",
       "      <td>219382.000000</td>\n",
       "      <td>50.000000</td>\n",
       "      <td>2.033899e+07</td>\n",
       "      <td>2.033899e+07</td>\n",
       "      <td>1.663614e+08</td>\n",
       "      <td>12.000000</td>\n",
       "      <td>12.000000</td>\n",
       "      <td>6.000000</td>\n",
       "      <td>16738.000000</td>\n",
       "      <td>2018.000000</td>\n",
       "      <td>12.000000</td>\n",
       "      <td>10775.000000</td>\n",
       "    </tr>\n",
       "  </tbody>\n",
       "</table>\n",
       "</div>"
      ],
      "text/plain": [
       "            category  main_category       currency          goal  \\\n",
       "count  375862.000000  375862.000000  375862.000000  3.758620e+05   \n",
       "mean      132.781667      26.595471      43.721347  4.887465e+04   \n",
       "std        45.088300      13.459400      14.543039  1.176595e+06   \n",
       "min        52.000000       3.000000       2.000000  1.000000e-02   \n",
       "30%       104.000000      20.000000      51.000000  2.500000e+03   \n",
       "50%       139.000000      21.000000      51.000000  5.100000e+03   \n",
       "70%       165.000000      35.000000      51.000000  1.250000e+04   \n",
       "max       210.000000      49.000000      51.000000  1.000000e+08   \n",
       "\n",
       "            pledged        backers        country   usd pledged  \\\n",
       "count  3.758620e+05  375862.000000  375862.000000  3.758620e+05   \n",
       "mean   9.687431e+03     105.896866      42.864823  7.072391e+03   \n",
       "std    9.588649e+04     909.952393      14.309326  7.861346e+04   \n",
       "min    0.000000e+00       0.000000       0.000000  0.000000e+00   \n",
       "30%    7.000000e+01       3.000000      50.000000  4.000000e+01   \n",
       "50%    6.250000e+02      12.000000      50.000000  4.000000e+02   \n",
       "70%    2.941406e+03      42.000000      50.000000  2.108000e+03   \n",
       "max    2.033899e+07  219382.000000      50.000000  2.033899e+07   \n",
       "\n",
       "       usd_pledged_real  usd_goal_real  month_launched  month_deadline  \\\n",
       "count      3.758620e+05   3.758620e+05   375862.000000   375862.000000   \n",
       "mean       9.082678e+03   4.532720e+04        6.425403        6.761929   \n",
       "std        9.127075e+04   1.145865e+06        3.310220        3.320265   \n",
       "min        0.000000e+00   1.000000e-02        1.000000        1.000000   \n",
       "30%        7.000000e+01   2.500000e+03        4.000000        5.000000   \n",
       "50%        6.274500e+02   5.480000e+03        6.000000        7.000000   \n",
       "70%        2.928782e+03   1.238927e+04        9.000000        9.000000   \n",
       "max        2.033899e+07   1.663614e+08       12.000000       12.000000   \n",
       "\n",
       "       launch_day_of_week       duration           year          month  \\\n",
       "count       375862.000000  375862.000000  375862.000000  375862.000000   \n",
       "mean             2.422009      33.441473    2014.227014       6.425403   \n",
       "std              1.764459      66.142888       1.925235       3.310220   \n",
       "min              0.000000       0.000000    1970.000000       1.000000   \n",
       "30%              1.000000      29.000000    2013.000000       4.000000   \n",
       "50%              2.000000      29.000000    2014.000000       6.000000   \n",
       "70%              3.000000      32.000000    2015.000000       9.000000   \n",
       "max              6.000000   16738.000000    2018.000000      12.000000   \n",
       "\n",
       "               count  \n",
       "count  375862.000000  \n",
       "mean     4835.875151  \n",
       "std      1902.347191  \n",
       "min         2.000000  \n",
       "30%      3962.000000  \n",
       "50%      4463.000000  \n",
       "70%      5659.000000  \n",
       "max     10775.000000  "
      ]
     },
     "execution_count": 42,
     "metadata": {},
     "output_type": "execute_result"
    }
   ],
   "source": [
    "data.describe(percentiles=[0.3,0.7])"
   ]
  },
  {
   "cell_type": "code",
   "execution_count": 43,
   "metadata": {},
   "outputs": [
    {
     "data": {
      "text/html": [
       "<div>\n",
       "<style scoped>\n",
       "    .dataframe tbody tr th:only-of-type {\n",
       "        vertical-align: middle;\n",
       "    }\n",
       "\n",
       "    .dataframe tbody tr th {\n",
       "        vertical-align: top;\n",
       "    }\n",
       "\n",
       "    .dataframe thead th {\n",
       "        text-align: right;\n",
       "    }\n",
       "</style>\n",
       "<table border=\"1\" class=\"dataframe\">\n",
       "  <thead>\n",
       "    <tr style=\"text-align: right;\">\n",
       "      <th></th>\n",
       "      <th>category</th>\n",
       "      <th>main_category</th>\n",
       "      <th>currency</th>\n",
       "      <th>goal</th>\n",
       "      <th>pledged</th>\n",
       "      <th>state</th>\n",
       "      <th>backers</th>\n",
       "      <th>country</th>\n",
       "      <th>usd pledged</th>\n",
       "      <th>usd_pledged_real</th>\n",
       "      <th>usd_goal_real</th>\n",
       "      <th>month_launched</th>\n",
       "      <th>month_deadline</th>\n",
       "      <th>launch_day_of_week</th>\n",
       "      <th>duration</th>\n",
       "      <th>year</th>\n",
       "      <th>month</th>\n",
       "      <th>count</th>\n",
       "    </tr>\n",
       "  </thead>\n",
       "  <tbody>\n",
       "    <tr>\n",
       "      <th>category</th>\n",
       "      <td>1.000000</td>\n",
       "      <td>0.157762</td>\n",
       "      <td>-0.012248</td>\n",
       "      <td>0.003316</td>\n",
       "      <td>0.028928</td>\n",
       "      <td>0.022527</td>\n",
       "      <td>0.041134</td>\n",
       "      <td>-0.012496</td>\n",
       "      <td>0.025946</td>\n",
       "      <td>0.029428</td>\n",
       "      <td>0.002602</td>\n",
       "      <td>-0.001634</td>\n",
       "      <td>-0.005784</td>\n",
       "      <td>-0.004689</td>\n",
       "      <td>-0.001292</td>\n",
       "      <td>-0.038873</td>\n",
       "      <td>-0.001634</td>\n",
       "      <td>-0.041840</td>\n",
       "    </tr>\n",
       "    <tr>\n",
       "      <th>main_category</th>\n",
       "      <td>0.157762</td>\n",
       "      <td>1.000000</td>\n",
       "      <td>-0.016455</td>\n",
       "      <td>0.003344</td>\n",
       "      <td>0.002720</td>\n",
       "      <td>-0.033623</td>\n",
       "      <td>-0.005700</td>\n",
       "      <td>-0.016755</td>\n",
       "      <td>0.003370</td>\n",
       "      <td>0.003672</td>\n",
       "      <td>0.001594</td>\n",
       "      <td>0.000854</td>\n",
       "      <td>-0.005375</td>\n",
       "      <td>0.001444</td>\n",
       "      <td>0.007173</td>\n",
       "      <td>-0.009930</td>\n",
       "      <td>0.000854</td>\n",
       "      <td>0.004988</td>\n",
       "    </tr>\n",
       "    <tr>\n",
       "      <th>currency</th>\n",
       "      <td>-0.012248</td>\n",
       "      <td>-0.016455</td>\n",
       "      <td>1.000000</td>\n",
       "      <td>-0.005467</td>\n",
       "      <td>0.005864</td>\n",
       "      <td>0.067145</td>\n",
       "      <td>0.012154</td>\n",
       "      <td>0.979930</td>\n",
       "      <td>0.014107</td>\n",
       "      <td>0.010847</td>\n",
       "      <td>-0.003873</td>\n",
       "      <td>-0.028365</td>\n",
       "      <td>-0.022725</td>\n",
       "      <td>0.004535</td>\n",
       "      <td>0.005256</td>\n",
       "      <td>-0.274471</td>\n",
       "      <td>-0.028365</td>\n",
       "      <td>-0.158479</td>\n",
       "    </tr>\n",
       "    <tr>\n",
       "      <th>goal</th>\n",
       "      <td>0.003316</td>\n",
       "      <td>0.003344</td>\n",
       "      <td>-0.005467</td>\n",
       "      <td>1.000000</td>\n",
       "      <td>0.007339</td>\n",
       "      <td>-0.024483</td>\n",
       "      <td>0.004077</td>\n",
       "      <td>-0.004920</td>\n",
       "      <td>0.005597</td>\n",
       "      <td>0.005172</td>\n",
       "      <td>0.941677</td>\n",
       "      <td>0.000954</td>\n",
       "      <td>0.000298</td>\n",
       "      <td>-0.002276</td>\n",
       "      <td>0.004323</td>\n",
       "      <td>0.015740</td>\n",
       "      <td>0.000954</td>\n",
       "      <td>0.012782</td>\n",
       "    </tr>\n",
       "    <tr>\n",
       "      <th>pledged</th>\n",
       "      <td>0.028928</td>\n",
       "      <td>0.002720</td>\n",
       "      <td>0.005864</td>\n",
       "      <td>0.007339</td>\n",
       "      <td>1.000000</td>\n",
       "      <td>0.111850</td>\n",
       "      <td>0.717427</td>\n",
       "      <td>0.005672</td>\n",
       "      <td>0.856305</td>\n",
       "      <td>0.953369</td>\n",
       "      <td>0.005099</td>\n",
       "      <td>0.002464</td>\n",
       "      <td>0.005791</td>\n",
       "      <td>-0.025551</td>\n",
       "      <td>0.000829</td>\n",
       "      <td>0.029772</td>\n",
       "      <td>0.002464</td>\n",
       "      <td>0.002265</td>\n",
       "    </tr>\n",
       "    <tr>\n",
       "      <th>state</th>\n",
       "      <td>0.022527</td>\n",
       "      <td>-0.033623</td>\n",
       "      <td>0.067145</td>\n",
       "      <td>-0.024483</td>\n",
       "      <td>0.111850</td>\n",
       "      <td>1.000000</td>\n",
       "      <td>0.129230</td>\n",
       "      <td>0.066111</td>\n",
       "      <td>0.097320</td>\n",
       "      <td>0.110786</td>\n",
       "      <td>-0.023246</td>\n",
       "      <td>-0.011550</td>\n",
       "      <td>-0.002458</td>\n",
       "      <td>-0.018810</td>\n",
       "      <td>-0.025708</td>\n",
       "      <td>-0.085120</td>\n",
       "      <td>-0.011550</td>\n",
       "      <td>-0.130694</td>\n",
       "    </tr>\n",
       "    <tr>\n",
       "      <th>backers</th>\n",
       "      <td>0.041134</td>\n",
       "      <td>-0.005700</td>\n",
       "      <td>0.012154</td>\n",
       "      <td>0.004077</td>\n",
       "      <td>0.717427</td>\n",
       "      <td>0.129230</td>\n",
       "      <td>1.000000</td>\n",
       "      <td>0.012082</td>\n",
       "      <td>0.697003</td>\n",
       "      <td>0.752489</td>\n",
       "      <td>0.004584</td>\n",
       "      <td>-0.002278</td>\n",
       "      <td>0.003404</td>\n",
       "      <td>-0.028078</td>\n",
       "      <td>-0.000780</td>\n",
       "      <td>0.016933</td>\n",
       "      <td>-0.002278</td>\n",
       "      <td>-0.002115</td>\n",
       "    </tr>\n",
       "    <tr>\n",
       "      <th>country</th>\n",
       "      <td>-0.012496</td>\n",
       "      <td>-0.016755</td>\n",
       "      <td>0.979930</td>\n",
       "      <td>-0.004920</td>\n",
       "      <td>0.005672</td>\n",
       "      <td>0.066111</td>\n",
       "      <td>0.012082</td>\n",
       "      <td>1.000000</td>\n",
       "      <td>0.013858</td>\n",
       "      <td>0.010901</td>\n",
       "      <td>-0.003072</td>\n",
       "      <td>-0.026805</td>\n",
       "      <td>-0.021437</td>\n",
       "      <td>0.003597</td>\n",
       "      <td>0.005600</td>\n",
       "      <td>-0.271817</td>\n",
       "      <td>-0.026805</td>\n",
       "      <td>-0.158080</td>\n",
       "    </tr>\n",
       "    <tr>\n",
       "      <th>usd pledged</th>\n",
       "      <td>0.025946</td>\n",
       "      <td>0.003370</td>\n",
       "      <td>0.014107</td>\n",
       "      <td>0.005597</td>\n",
       "      <td>0.856305</td>\n",
       "      <td>0.097320</td>\n",
       "      <td>0.697003</td>\n",
       "      <td>0.013858</td>\n",
       "      <td>1.000000</td>\n",
       "      <td>0.905955</td>\n",
       "      <td>0.006240</td>\n",
       "      <td>-0.005885</td>\n",
       "      <td>-0.003462</td>\n",
       "      <td>-0.020130</td>\n",
       "      <td>0.000820</td>\n",
       "      <td>-0.006187</td>\n",
       "      <td>-0.005885</td>\n",
       "      <td>0.008757</td>\n",
       "    </tr>\n",
       "    <tr>\n",
       "      <th>usd_pledged_real</th>\n",
       "      <td>0.029428</td>\n",
       "      <td>0.003672</td>\n",
       "      <td>0.010847</td>\n",
       "      <td>0.005172</td>\n",
       "      <td>0.953369</td>\n",
       "      <td>0.110786</td>\n",
       "      <td>0.752489</td>\n",
       "      <td>0.010901</td>\n",
       "      <td>0.905955</td>\n",
       "      <td>1.000000</td>\n",
       "      <td>0.005669</td>\n",
       "      <td>0.000122</td>\n",
       "      <td>0.004185</td>\n",
       "      <td>-0.025895</td>\n",
       "      <td>0.000944</td>\n",
       "      <td>0.022448</td>\n",
       "      <td>0.000122</td>\n",
       "      <td>0.002874</td>\n",
       "    </tr>\n",
       "    <tr>\n",
       "      <th>usd_goal_real</th>\n",
       "      <td>0.002602</td>\n",
       "      <td>0.001594</td>\n",
       "      <td>-0.003873</td>\n",
       "      <td>0.941677</td>\n",
       "      <td>0.005099</td>\n",
       "      <td>-0.023246</td>\n",
       "      <td>0.004584</td>\n",
       "      <td>-0.003072</td>\n",
       "      <td>0.006240</td>\n",
       "      <td>0.005669</td>\n",
       "      <td>1.000000</td>\n",
       "      <td>0.001303</td>\n",
       "      <td>0.000604</td>\n",
       "      <td>-0.002573</td>\n",
       "      <td>0.004202</td>\n",
       "      <td>0.012338</td>\n",
       "      <td>0.001303</td>\n",
       "      <td>0.013070</td>\n",
       "    </tr>\n",
       "    <tr>\n",
       "      <th>month_launched</th>\n",
       "      <td>-0.001634</td>\n",
       "      <td>0.000854</td>\n",
       "      <td>-0.028365</td>\n",
       "      <td>0.000954</td>\n",
       "      <td>0.002464</td>\n",
       "      <td>-0.011550</td>\n",
       "      <td>-0.002278</td>\n",
       "      <td>-0.026805</td>\n",
       "      <td>-0.005885</td>\n",
       "      <td>0.000122</td>\n",
       "      <td>0.001303</td>\n",
       "      <td>1.000000</td>\n",
       "      <td>0.608088</td>\n",
       "      <td>-0.018344</td>\n",
       "      <td>-0.009993</td>\n",
       "      <td>-0.090528</td>\n",
       "      <td>1.000000</td>\n",
       "      <td>-0.101570</td>\n",
       "    </tr>\n",
       "    <tr>\n",
       "      <th>month_deadline</th>\n",
       "      <td>-0.005784</td>\n",
       "      <td>-0.005375</td>\n",
       "      <td>-0.022725</td>\n",
       "      <td>0.000298</td>\n",
       "      <td>0.005791</td>\n",
       "      <td>-0.002458</td>\n",
       "      <td>0.003404</td>\n",
       "      <td>-0.021437</td>\n",
       "      <td>-0.003462</td>\n",
       "      <td>0.004185</td>\n",
       "      <td>0.000604</td>\n",
       "      <td>0.608088</td>\n",
       "      <td>1.000000</td>\n",
       "      <td>-0.020050</td>\n",
       "      <td>-0.004978</td>\n",
       "      <td>-0.018150</td>\n",
       "      <td>0.608088</td>\n",
       "      <td>0.065183</td>\n",
       "    </tr>\n",
       "    <tr>\n",
       "      <th>launch_day_of_week</th>\n",
       "      <td>-0.004689</td>\n",
       "      <td>0.001444</td>\n",
       "      <td>0.004535</td>\n",
       "      <td>-0.002276</td>\n",
       "      <td>-0.025551</td>\n",
       "      <td>-0.018810</td>\n",
       "      <td>-0.028078</td>\n",
       "      <td>0.003597</td>\n",
       "      <td>-0.020130</td>\n",
       "      <td>-0.025895</td>\n",
       "      <td>-0.002573</td>\n",
       "      <td>-0.018344</td>\n",
       "      <td>-0.020050</td>\n",
       "      <td>1.000000</td>\n",
       "      <td>0.005227</td>\n",
       "      <td>-0.034235</td>\n",
       "      <td>-0.018344</td>\n",
       "      <td>-0.036023</td>\n",
       "    </tr>\n",
       "    <tr>\n",
       "      <th>duration</th>\n",
       "      <td>-0.001292</td>\n",
       "      <td>0.007173</td>\n",
       "      <td>0.005256</td>\n",
       "      <td>0.004323</td>\n",
       "      <td>0.000829</td>\n",
       "      <td>-0.025708</td>\n",
       "      <td>-0.000780</td>\n",
       "      <td>0.005600</td>\n",
       "      <td>0.000820</td>\n",
       "      <td>0.000944</td>\n",
       "      <td>0.004202</td>\n",
       "      <td>-0.009993</td>\n",
       "      <td>-0.004978</td>\n",
       "      <td>0.005227</td>\n",
       "      <td>1.000000</td>\n",
       "      <td>-0.129610</td>\n",
       "      <td>-0.009993</td>\n",
       "      <td>-0.037126</td>\n",
       "    </tr>\n",
       "    <tr>\n",
       "      <th>year</th>\n",
       "      <td>-0.038873</td>\n",
       "      <td>-0.009930</td>\n",
       "      <td>-0.274471</td>\n",
       "      <td>0.015740</td>\n",
       "      <td>0.029772</td>\n",
       "      <td>-0.085120</td>\n",
       "      <td>0.016933</td>\n",
       "      <td>-0.271817</td>\n",
       "      <td>-0.006187</td>\n",
       "      <td>0.022448</td>\n",
       "      <td>0.012338</td>\n",
       "      <td>-0.090528</td>\n",
       "      <td>-0.018150</td>\n",
       "      <td>-0.034235</td>\n",
       "      <td>-0.129610</td>\n",
       "      <td>1.000000</td>\n",
       "      <td>-0.090528</td>\n",
       "      <td>0.460593</td>\n",
       "    </tr>\n",
       "    <tr>\n",
       "      <th>month</th>\n",
       "      <td>-0.001634</td>\n",
       "      <td>0.000854</td>\n",
       "      <td>-0.028365</td>\n",
       "      <td>0.000954</td>\n",
       "      <td>0.002464</td>\n",
       "      <td>-0.011550</td>\n",
       "      <td>-0.002278</td>\n",
       "      <td>-0.026805</td>\n",
       "      <td>-0.005885</td>\n",
       "      <td>0.000122</td>\n",
       "      <td>0.001303</td>\n",
       "      <td>1.000000</td>\n",
       "      <td>0.608088</td>\n",
       "      <td>-0.018344</td>\n",
       "      <td>-0.009993</td>\n",
       "      <td>-0.090528</td>\n",
       "      <td>1.000000</td>\n",
       "      <td>-0.101570</td>\n",
       "    </tr>\n",
       "    <tr>\n",
       "      <th>count</th>\n",
       "      <td>-0.041840</td>\n",
       "      <td>0.004988</td>\n",
       "      <td>-0.158479</td>\n",
       "      <td>0.012782</td>\n",
       "      <td>0.002265</td>\n",
       "      <td>-0.130694</td>\n",
       "      <td>-0.002115</td>\n",
       "      <td>-0.158080</td>\n",
       "      <td>0.008757</td>\n",
       "      <td>0.002874</td>\n",
       "      <td>0.013070</td>\n",
       "      <td>-0.101570</td>\n",
       "      <td>0.065183</td>\n",
       "      <td>-0.036023</td>\n",
       "      <td>-0.037126</td>\n",
       "      <td>0.460593</td>\n",
       "      <td>-0.101570</td>\n",
       "      <td>1.000000</td>\n",
       "    </tr>\n",
       "  </tbody>\n",
       "</table>\n",
       "</div>"
      ],
      "text/plain": [
       "                    category  main_category  currency      goal   pledged  \\\n",
       "category            1.000000       0.157762 -0.012248  0.003316  0.028928   \n",
       "main_category       0.157762       1.000000 -0.016455  0.003344  0.002720   \n",
       "currency           -0.012248      -0.016455  1.000000 -0.005467  0.005864   \n",
       "goal                0.003316       0.003344 -0.005467  1.000000  0.007339   \n",
       "pledged             0.028928       0.002720  0.005864  0.007339  1.000000   \n",
       "state               0.022527      -0.033623  0.067145 -0.024483  0.111850   \n",
       "backers             0.041134      -0.005700  0.012154  0.004077  0.717427   \n",
       "country            -0.012496      -0.016755  0.979930 -0.004920  0.005672   \n",
       "usd pledged         0.025946       0.003370  0.014107  0.005597  0.856305   \n",
       "usd_pledged_real    0.029428       0.003672  0.010847  0.005172  0.953369   \n",
       "usd_goal_real       0.002602       0.001594 -0.003873  0.941677  0.005099   \n",
       "month_launched     -0.001634       0.000854 -0.028365  0.000954  0.002464   \n",
       "month_deadline     -0.005784      -0.005375 -0.022725  0.000298  0.005791   \n",
       "launch_day_of_week -0.004689       0.001444  0.004535 -0.002276 -0.025551   \n",
       "duration           -0.001292       0.007173  0.005256  0.004323  0.000829   \n",
       "year               -0.038873      -0.009930 -0.274471  0.015740  0.029772   \n",
       "month              -0.001634       0.000854 -0.028365  0.000954  0.002464   \n",
       "count              -0.041840       0.004988 -0.158479  0.012782  0.002265   \n",
       "\n",
       "                       state   backers   country  usd pledged  \\\n",
       "category            0.022527  0.041134 -0.012496     0.025946   \n",
       "main_category      -0.033623 -0.005700 -0.016755     0.003370   \n",
       "currency            0.067145  0.012154  0.979930     0.014107   \n",
       "goal               -0.024483  0.004077 -0.004920     0.005597   \n",
       "pledged             0.111850  0.717427  0.005672     0.856305   \n",
       "state               1.000000  0.129230  0.066111     0.097320   \n",
       "backers             0.129230  1.000000  0.012082     0.697003   \n",
       "country             0.066111  0.012082  1.000000     0.013858   \n",
       "usd pledged         0.097320  0.697003  0.013858     1.000000   \n",
       "usd_pledged_real    0.110786  0.752489  0.010901     0.905955   \n",
       "usd_goal_real      -0.023246  0.004584 -0.003072     0.006240   \n",
       "month_launched     -0.011550 -0.002278 -0.026805    -0.005885   \n",
       "month_deadline     -0.002458  0.003404 -0.021437    -0.003462   \n",
       "launch_day_of_week -0.018810 -0.028078  0.003597    -0.020130   \n",
       "duration           -0.025708 -0.000780  0.005600     0.000820   \n",
       "year               -0.085120  0.016933 -0.271817    -0.006187   \n",
       "month              -0.011550 -0.002278 -0.026805    -0.005885   \n",
       "count              -0.130694 -0.002115 -0.158080     0.008757   \n",
       "\n",
       "                    usd_pledged_real  usd_goal_real  month_launched  \\\n",
       "category                    0.029428       0.002602       -0.001634   \n",
       "main_category               0.003672       0.001594        0.000854   \n",
       "currency                    0.010847      -0.003873       -0.028365   \n",
       "goal                        0.005172       0.941677        0.000954   \n",
       "pledged                     0.953369       0.005099        0.002464   \n",
       "state                       0.110786      -0.023246       -0.011550   \n",
       "backers                     0.752489       0.004584       -0.002278   \n",
       "country                     0.010901      -0.003072       -0.026805   \n",
       "usd pledged                 0.905955       0.006240       -0.005885   \n",
       "usd_pledged_real            1.000000       0.005669        0.000122   \n",
       "usd_goal_real               0.005669       1.000000        0.001303   \n",
       "month_launched              0.000122       0.001303        1.000000   \n",
       "month_deadline              0.004185       0.000604        0.608088   \n",
       "launch_day_of_week         -0.025895      -0.002573       -0.018344   \n",
       "duration                    0.000944       0.004202       -0.009993   \n",
       "year                        0.022448       0.012338       -0.090528   \n",
       "month                       0.000122       0.001303        1.000000   \n",
       "count                       0.002874       0.013070       -0.101570   \n",
       "\n",
       "                    month_deadline  launch_day_of_week  duration      year  \\\n",
       "category                 -0.005784           -0.004689 -0.001292 -0.038873   \n",
       "main_category            -0.005375            0.001444  0.007173 -0.009930   \n",
       "currency                 -0.022725            0.004535  0.005256 -0.274471   \n",
       "goal                      0.000298           -0.002276  0.004323  0.015740   \n",
       "pledged                   0.005791           -0.025551  0.000829  0.029772   \n",
       "state                    -0.002458           -0.018810 -0.025708 -0.085120   \n",
       "backers                   0.003404           -0.028078 -0.000780  0.016933   \n",
       "country                  -0.021437            0.003597  0.005600 -0.271817   \n",
       "usd pledged              -0.003462           -0.020130  0.000820 -0.006187   \n",
       "usd_pledged_real          0.004185           -0.025895  0.000944  0.022448   \n",
       "usd_goal_real             0.000604           -0.002573  0.004202  0.012338   \n",
       "month_launched            0.608088           -0.018344 -0.009993 -0.090528   \n",
       "month_deadline            1.000000           -0.020050 -0.004978 -0.018150   \n",
       "launch_day_of_week       -0.020050            1.000000  0.005227 -0.034235   \n",
       "duration                 -0.004978            0.005227  1.000000 -0.129610   \n",
       "year                     -0.018150           -0.034235 -0.129610  1.000000   \n",
       "month                     0.608088           -0.018344 -0.009993 -0.090528   \n",
       "count                     0.065183           -0.036023 -0.037126  0.460593   \n",
       "\n",
       "                       month     count  \n",
       "category           -0.001634 -0.041840  \n",
       "main_category       0.000854  0.004988  \n",
       "currency           -0.028365 -0.158479  \n",
       "goal                0.000954  0.012782  \n",
       "pledged             0.002464  0.002265  \n",
       "state              -0.011550 -0.130694  \n",
       "backers            -0.002278 -0.002115  \n",
       "country            -0.026805 -0.158080  \n",
       "usd pledged        -0.005885  0.008757  \n",
       "usd_pledged_real    0.000122  0.002874  \n",
       "usd_goal_real       0.001303  0.013070  \n",
       "month_launched      1.000000 -0.101570  \n",
       "month_deadline      0.608088  0.065183  \n",
       "launch_day_of_week -0.018344 -0.036023  \n",
       "duration           -0.009993 -0.037126  \n",
       "year               -0.090528  0.460593  \n",
       "month               1.000000 -0.101570  \n",
       "count              -0.101570  1.000000  "
      ]
     },
     "execution_count": 43,
     "metadata": {},
     "output_type": "execute_result"
    }
   ],
   "source": [
    "data.corr()"
   ]
  },
  {
   "cell_type": "code",
   "execution_count": 44,
   "metadata": {},
   "outputs": [
    {
     "data": {
      "text/plain": [
       "<matplotlib.axes._subplots.AxesSubplot at 0x1456cb9e8>"
      ]
     },
     "execution_count": 44,
     "metadata": {},
     "output_type": "execute_result"
    },
    {
     "data": {
      "image/png": "[encoded data removed]",
      "text/plain": [
       "<Figure size 432x288 with 2 Axes>"
      ]
     },
     "metadata": {},
     "output_type": "display_data"
    }
   ],
   "source": [
    "sns.heatmap(data.corr(), \n",
    "        xticklabels=data.corr().columns,\n",
    "        yticklabels=data.corr().columns)"
   ]
  },
  {
   "cell_type": "markdown",
   "metadata": {},
   "source": [
    "Analysis of the visualization here..."
   ]
  },
  {
   "cell_type": "code",
   "execution_count": 36,
   "metadata": {},
   "outputs": [],
   "source": [
    "# Separate data into two different sets based on whether or not the campaign was successful\n",
    "success = data.loc[data['state'] == True]\n",
    "fail = data.loc[data['state'] == False]"
   ]
  },
  {
   "cell_type": "code",
   "execution_count": 18,
   "metadata": {},
   "outputs": [
    {
     "data": {
      "text/plain": [
       "Text(0.5,1,'Normalized Distribution of Goal Amounts for Successful and Failed Projects (0-100000 dollars)')"
      ]
     },
     "execution_count": 18,
     "metadata": {},
     "output_type": "execute_result"
    },
    {
     "data": {
      "image/png": "[encoded data removed]",
      "text/plain": [
       "<Figure size 432x288 with 1 Axes>"
      ]
     },
     "metadata": {},
     "output_type": "display_data"
    }
   ],
   "source": [
    "plt.hist([success.goal, fail.goal], range=[0, 100000], label=['success', 'fail'], density=True)\n",
    "plt.legend()\n",
    "plt.title('Normalized Distribution of Goal Amounts for Successful and Failed Projects (0-100000 dollars)')"
   ]
  },
  {
   "cell_type": "code",
   "execution_count": 34,
   "metadata": {},
   "outputs": [
    {
     "data": {
      "text/plain": [
       "Text(0.5,1,'Normalized Distribution of Goal Amounts for Successful and Failed Projects (100000-1000000 dollars)')"
      ]
     },
     "execution_count": 34,
     "metadata": {},
     "output_type": "execute_result"
    },
    {
     "data": {
      "image/png": "[encoded data removed]",
      "text/plain": [
       "<Figure size 432x288 with 1 Axes>"
      ]
     },
     "metadata": {},
     "output_type": "display_data"
    }
   ],
   "source": [
    "plt.hist([success.goal, fail.goal], range=[100000, 1000000], label=['success', 'fail'], density=True)\n",
    "plt.legend()\n",
    "plt.title('Normalized Distribution of Goal Amounts for Successful and Failed Projects (100000-1000000 dollars)')"
   ]
  },
  {
   "cell_type": "code",
   "execution_count": 23,
   "metadata": {},
   "outputs": [
    {
     "data": {
      "text/plain": [
       "<matplotlib.legend.Legend at 0x2d580852748>"
      ]
     },
     "execution_count": 23,
     "metadata": {},
     "output_type": "execute_result"
    },
    {
     "data": {
      "image/png": "[encoded data removed]",
      "text/plain": [
       "<Figure size 432x288 with 1 Axes>"
      ]
     },
     "metadata": {},
     "output_type": "display_data"
    }
   ],
   "source": [
    "plt.hist([success.duration, fail.duration], label=['success', 'fail'], density=True)\n",
    "plt.legend()\n",
    "plt.title('Normalized Distribution of Campaign Length for Successful and Failed Projects')"
   ]
  },
  {
   "cell_type": "code",
   "execution_count": 37,
   "metadata": {},
   "outputs": [
    {
     "data": {
      "text/plain": [
       "Text(0.5,1,'Normalized Distribution of the Month the Campaign was launched for Successful and Failed Projects')"
      ]
     },
     "execution_count": 37,
     "metadata": {},
     "output_type": "execute_result"
    },
    {
     "data": {
      "image/png": "[encoded data removed]",
      "text/plain": [
       "<Figure size 432x288 with 1 Axes>"
      ]
     },
     "metadata": {},
     "output_type": "display_data"
    }
   ],
   "source": [
    "plt.hist([success.month, fail.month], bins=12, density=True, label=['success', 'fail'])\n",
    "plt.legend()\n",
    "plt.title('Normalized Distribution of the Month the Campaign was launched for Successful and Failed Projects')"
   ]
  },
  {
   "cell_type": "code",
   "execution_count": 38,
   "metadata": {},
   "outputs": [
    {
     "data": {
      "text/plain": [
       "<matplotlib.legend.Legend at 0x2d581338a20>"
      ]
     },
     "execution_count": 38,
     "metadata": {},
     "output_type": "execute_result"
    },
    {
     "data": {
      "image/png": "[encoded data removed]",
      "text/plain": [
       "<Figure size 432x288 with 1 Axes>"
      ]
     },
     "metadata": {},
     "output_type": "display_data"
    }
   ],
   "source": [
    "plt.hist([success.launch_day_of_week, fail.launch_day_of_week], bins=7, density=True, label=['success', 'fail'])\n",
    "plt.legend()"
   ]
  },
  {
   "cell_type": "markdown",
   "metadata": {},
   "source": [
    "## Statistical Modeling"
   ]
  },
  {
   "cell_type": "code",
   "execution_count": 4,
   "metadata": {},
   "outputs": [],
   "source": [
    "# Statistical Modeling code here: \n",
    "import pandas as pd\n",
    "import statsmodels.formula.api as smf\n",
    "import matplotlib.pyplot as plt\n",
    "import numpy as np"
   ]
  },
  {
   "cell_type": "code",
   "execution_count": null,
   "metadata": {},
   "outputs": [],
   "source": [
    "%store -r data\n",
    "%store -r le\n",
    "newdata = data\n",
    "newdata.state = data.state.astype(int)\n",
    "newdata"
   ]
  },
  {
   "cell_type": "markdown",
   "metadata": {},
   "source": [
    "### Multiple Regression"
   ]
  },
  {
   "cell_type": "code",
   "execution_count": null,
   "metadata": {},
   "outputs": [],
   "source": [
    "# Creates Model\n",
    "full_model = smf.ols(formula='state ~ goal + pledged + category + main_category + backers + country', data=newdata).fit()\n",
    "full_model.summary()"
   ]
  },
  {
   "cell_type": "code",
   "execution_count": null,
   "metadata": {},
   "outputs": [],
   "source": [
    "# Make predictions\n",
    "data['mult_predictions'] = full_model.predict()\n",
    "data.loc[data[\"mult_predictions\"] >= 0.5,\"mult_predictions\"] = 1\n",
    "data.loc[data[\"mult_predictions\"] < 0.5,\"mult_predictions\"] = 0"
   ]
  },
  {
   "cell_type": "code",
   "execution_count": 1,
   "metadata": {},
   "outputs": [
    {
     "ename": "NameError",
     "evalue": "name 'data' is not defined",
     "output_type": "error",
     "traceback": [
      "\u001b[1;31m---------------------------------------------------------------------------\u001b[0m",
      "\u001b[1;31mNameError\u001b[0m                                 Traceback (most recent call last)",
      "\u001b[1;32m<ipython-input-1-0a8de181f72b>\u001b[0m in \u001b[0;36m<module>\u001b[1;34m()\u001b[0m\n\u001b[0;32m      1\u001b[0m \u001b[1;31m# Visualize results\u001b[0m\u001b[1;33m\u001b[0m\u001b[1;33m\u001b[0m\u001b[0m\n\u001b[1;32m----> 2\u001b[1;33m \u001b[0mreal_success\u001b[0m \u001b[1;33m=\u001b[0m \u001b[0mlen\u001b[0m\u001b[1;33m(\u001b[0m\u001b[0mdata\u001b[0m\u001b[1;33m[\u001b[0m\u001b[0mdata\u001b[0m\u001b[1;33m[\u001b[0m\u001b[1;34m'state'\u001b[0m\u001b[1;33m]\u001b[0m \u001b[1;33m==\u001b[0m \u001b[1;36m1\u001b[0m\u001b[1;33m]\u001b[0m\u001b[1;33m)\u001b[0m\u001b[1;33m\u001b[0m\u001b[0m\n\u001b[0m\u001b[0;32m      3\u001b[0m \u001b[0mfake_success\u001b[0m \u001b[1;33m=\u001b[0m \u001b[0mlen\u001b[0m\u001b[1;33m(\u001b[0m\u001b[0mdata\u001b[0m\u001b[1;33m[\u001b[0m\u001b[0mdata\u001b[0m\u001b[1;33m[\u001b[0m\u001b[1;34m'mult_predictions'\u001b[0m\u001b[1;33m]\u001b[0m \u001b[1;33m==\u001b[0m \u001b[1;36m1\u001b[0m\u001b[1;33m]\u001b[0m\u001b[1;33m)\u001b[0m\u001b[1;33m\u001b[0m\u001b[0m\n\u001b[0;32m      4\u001b[0m \u001b[0mreal_failed\u001b[0m \u001b[1;33m=\u001b[0m \u001b[0mlen\u001b[0m\u001b[1;33m(\u001b[0m\u001b[0mdata\u001b[0m\u001b[1;33m[\u001b[0m\u001b[0mdata\u001b[0m\u001b[1;33m[\u001b[0m\u001b[1;34m'state'\u001b[0m\u001b[1;33m]\u001b[0m \u001b[1;33m==\u001b[0m \u001b[1;36m0\u001b[0m\u001b[1;33m]\u001b[0m\u001b[1;33m)\u001b[0m\u001b[1;33m\u001b[0m\u001b[0m\n\u001b[0;32m      5\u001b[0m \u001b[0mfake_failed\u001b[0m \u001b[1;33m=\u001b[0m \u001b[0mlen\u001b[0m\u001b[1;33m(\u001b[0m\u001b[0mdata\u001b[0m\u001b[1;33m[\u001b[0m\u001b[0mdata\u001b[0m\u001b[1;33m[\u001b[0m\u001b[1;34m'mult_predictions'\u001b[0m\u001b[1;33m]\u001b[0m \u001b[1;33m==\u001b[0m \u001b[1;36m0\u001b[0m\u001b[1;33m]\u001b[0m\u001b[1;33m)\u001b[0m\u001b[1;33m\u001b[0m\u001b[0m\n",
      "\u001b[1;31mNameError\u001b[0m: name 'data' is not defined"
     ]
    }
   ],
   "source": [
    "# Visualize results\n",
    "real_success = len(data[data['state'] == 1])\n",
    "fake_success = len(data[data['mult_predictions'] == 1])\n",
    "real_failed = len(data[data['state'] == 0])\n",
    "fake_failed = len(data[data['mult_predictions'] == 0])\n",
    "\n",
    "x = ['Pass', 'Fail']\n",
    "real = [real_success, real_failed]\n",
    "fake = [fake_success, fake_failed]\n",
    "\n",
    "fig, ax = plt.subplots()\n",
    "bar_width = 0.35\n",
    "opacity = 0.4\n",
    "N = 2\n",
    "ind = np.arange(N)\n",
    "\n",
    "rects1 = ax.bar(ind, real, bar_width, alpha=opacity, color='b', label='Real Data')\n",
    "rects2 = ax.bar(ind + bar_width, fake, bar_width, alpha=opacity, color='r', label='Prediction Data')\n",
    "ax.set_xlabel('True or False')\n",
    "ax.set_ylabel('Total Count')\n",
    "ax.set_title('Which are True vs False')\n",
    "ax.set_xticks(ind + bar_width / 2)\n",
    "ax.set_xticklabels(('Success', 'Failed'))\n",
    "ax.legend()\n",
    "\n",
    "plt.show"
   ]
  },
  {
   "cell_type": "code",
   "execution_count": null,
   "metadata": {},
   "outputs": [],
   "source": [
    "# Percent of correct predictions\n",
    "len(data[data[\"mult_predictions\"]== data[\"state\"]]) / len(data[\"state\"])"
   ]
  },
  {
   "cell_type": "markdown",
   "metadata": {},
   "source": []
  },
  {
   "cell_type": "markdown",
   "metadata": {},
   "source": [
    "## Machine Learning"
   ]
  },
  {
   "cell_type": "code",
   "execution_count": 5,
   "metadata": {},
   "outputs": [],
   "source": [
    "# Machine Learning code here: "
   ]
  },
  {
   "cell_type": "markdown",
   "metadata": {},
   "source": [
    "Explanation of the machine learning done..."
   ]
  },
  {
   "cell_type": "markdown",
   "metadata": {},
   "source": [
    "## *About the Team*"
   ]
  },
  {
   "cell_type": "markdown",
   "metadata": {},
   "source": [
    "Information on the Team..."
   ]
  }
 ],
 "metadata": {
  "kernelspec": {
   "display_name": "Python 3",
   "language": "python",
   "name": "python3"
  },
  "language_info": {
   "codemirror_mode": {
    "name": "ipython",
    "version": 3
   },
   "file_extension": ".py",
   "mimetype": "text/x-python",
   "name": "python",
   "nbconvert_exporter": "python",
   "pygments_lexer": "ipython3",
   "version": "3.6.5"
  }
 },
 "nbformat": 4,
 "nbformat_minor": 2
}
